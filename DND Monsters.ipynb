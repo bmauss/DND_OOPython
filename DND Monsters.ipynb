{
 "cells": [
  {
   "cell_type": "markdown",
   "metadata": {},
   "source": [
    "# OOP Exercises with D&D Monsters\n",
    "\n",
    "This notebook will serve as a means of practicing OOP techniques, specifically applied to the Monster Bestiary. The language we'll be using is Python.  We'll hope to be using this to gain a better understanding of the Four Pillars of OOP:\n",
    "\n",
    "* Abstraction\n",
    "* Inheritance \n",
    "* Polymorphism\n",
    "* Encapsulation\n",
    "\n",
    "We'll be taking notes of whenever we exhibit an example of these pillars."
   ]
  },
  {
   "cell_type": "markdown",
   "metadata": {},
   "source": [
    "# Ancestral Class \n",
    "\n",
    "We'll start by making a very generic Parent Class that will serve as the template and ancestor to all \"Monster\" objects. This will contain and initialize base attributes that are shared among all monsters and creatures available in the 5th Edition Bestiary."
   ]
  },
  {
   "cell_type": "code",
   "execution_count": null,
   "metadata": {},
   "outputs": [],
   "source": [
    "# Creating Monster Parent Class\n",
    "class Monster:\n",
    "    # Establish Initializer; child classes will inherit these attributes\n",
    "    def __init__(self, name, in_game_name, mon_type, size, alignment, armor_class, hp, speed)"
   ]
  }
 ],
 "metadata": {
  "kernelspec": {
   "display_name": "Python [conda env:learn-env] *",
   "language": "python",
   "name": "conda-env-learn-env-py"
  },
  "language_info": {
   "codemirror_mode": {
    "name": "ipython",
    "version": 3
   },
   "file_extension": ".py",
   "mimetype": "text/x-python",
   "name": "python",
   "nbconvert_exporter": "python",
   "pygments_lexer": "ipython3",
   "version": "3.6.12"
  },
  "toc": {
   "base_numbering": 1,
   "nav_menu": {},
   "number_sections": true,
   "sideBar": true,
   "skip_h1_title": false,
   "title_cell": "Table of Contents",
   "title_sidebar": "Contents",
   "toc_cell": false,
   "toc_position": {},
   "toc_section_display": true,
   "toc_window_display": false
  },
  "varInspector": {
   "cols": {
    "lenName": 16,
    "lenType": 16,
    "lenVar": 40
   },
   "kernels_config": {
    "python": {
     "delete_cmd_postfix": "",
     "delete_cmd_prefix": "del ",
     "library": "var_list.py",
     "varRefreshCmd": "print(var_dic_list())"
    },
    "r": {
     "delete_cmd_postfix": ") ",
     "delete_cmd_prefix": "rm(",
     "library": "var_list.r",
     "varRefreshCmd": "cat(var_dic_list()) "
    }
   },
   "types_to_exclude": [
    "module",
    "function",
    "builtin_function_or_method",
    "instance",
    "_Feature"
   ],
   "window_display": false
  }
 },
 "nbformat": 4,
 "nbformat_minor": 4
}
