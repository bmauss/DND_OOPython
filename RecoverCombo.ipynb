{
 "cells": [
  {
   "cell_type": "code",
   "execution_count": 1,
   "metadata": {
    "ExecuteTime": {
     "end_time": "2021-07-17T14:24:35.795587Z",
     "start_time": "2021-07-17T14:24:35.784592Z"
    }
   },
   "outputs": [
    {
     "name": "stdout",
     "output_type": "stream",
     "text": [
      "Find the \"sticky\" number\n"
     ]
    }
   ],
   "source": [
    "print('Find the \"sticky\" number')"
   ]
  },
  {
   "cell_type": "code",
   "execution_count": 22,
   "metadata": {
    "ExecuteTime": {
     "end_time": "2021-07-17T14:58:51.627469Z",
     "start_time": "2021-07-17T14:58:51.614475Z"
    }
   },
   "outputs": [],
   "source": [
    "# preliminary requisites\n",
    "sticky_num = 5\n",
    "guess_num1 = 19\n",
    "guess_num2 = 6\n",
    "\n",
    "# The Math\n",
    "first_num = sticky_num + 5\n",
    "constant_divisor = 4\n",
    "remainder = sticky_num % constant_divisor\n",
    "\n",
    "\n",
    "guess_array = []\n",
    "guess_array2 = []\n",
    "guess_constants = [0, 10, 20, 30]\n",
    "\n",
    "for i in range(len(guess_constants)):\n",
    "    guess1 = guess_num1 + guess_constants[i]  \n",
    "    guess2 = guess_num2 + guess_constants[i]\n",
    "    guess_array.append(guess1)\n",
    "    guess_array.append(guess2)\n",
    "    \n",
    "    for j in range(len(guess_array)):\n",
    "        if guess_array[j] > 39:\n",
    "            guess_array[j] = guess_array[j] - 40\n",
    "            \n",
    "\n",
    "\n",
    "\n",
    "\n",
    "\n",
    "\n"
   ]
  },
  {
   "cell_type": "code",
   "execution_count": 23,
   "metadata": {
    "ExecuteTime": {
     "end_time": "2021-07-17T14:58:52.424369Z",
     "start_time": "2021-07-17T14:58:52.406381Z"
    }
   },
   "outputs": [
    {
     "data": {
      "text/plain": [
       "[29, 9]"
      ]
     },
     "execution_count": 23,
     "metadata": {},
     "output_type": "execute_result"
    }
   ],
   "source": [
    "third_num = []\n",
    "\n",
    "for i in range(len(guess_array)):\n",
    "    candidate = guess_array[i] % constant_divisor\n",
    "    if candidate == remainder:\n",
    "        third_num.append(guess_array[i])\n",
    "third_num"
   ]
  },
  {
   "cell_type": "code",
   "execution_count": 27,
   "metadata": {
    "ExecuteTime": {
     "end_time": "2021-07-17T15:01:50.226347Z",
     "start_time": "2021-07-17T15:01:50.205376Z"
    }
   },
   "outputs": [
    {
     "ename": "AttributeError",
     "evalue": "'list' object has no attribute 'concat'",
     "output_type": "error",
     "traceback": [
      "\u001b[1;31m---------------------------------------------------------------------------\u001b[0m",
      "\u001b[1;31mAttributeError\u001b[0m                            Traceback (most recent call last)",
      "\u001b[1;32m<ipython-input-27-4260ed0b8d00>\u001b[0m in \u001b[0;36m<module>\u001b[1;34m\u001b[0m\n\u001b[0;32m     18\u001b[0m \u001b[0mremainder_plus_two\u001b[0m\u001b[1;33m\u001b[0m\u001b[1;33m\u001b[0m\u001b[0m\n\u001b[0;32m     19\u001b[0m \u001b[0mremainder_plus_six\u001b[0m\u001b[1;33m\u001b[0m\u001b[1;33m\u001b[0m\u001b[0m\n\u001b[1;32m---> 20\u001b[1;33m \u001b[0mremainders\u001b[0m \u001b[1;33m=\u001b[0m \u001b[0mremainder_plus_two\u001b[0m\u001b[1;33m.\u001b[0m\u001b[0mconcat\u001b[0m\u001b[1;33m(\u001b[0m\u001b[0mremainder_plus_six\u001b[0m\u001b[1;33m)\u001b[0m\u001b[1;33m\u001b[0m\u001b[1;33m\u001b[0m\u001b[0m\n\u001b[0m",
      "\u001b[1;31mAttributeError\u001b[0m: 'list' object has no attribute 'concat'"
     ]
    }
   ],
   "source": [
    "actual_third = 39\n",
    "\n",
    "remainder_plus_two = [remainder + 2]\n",
    "remainder_plus_six = [remainder + 6]\n",
    "possible_second_nums = []\n",
    "rem = 0\n",
    "for i in range(4):\n",
    "    rem1 = remainder_plus_two[i] + 8\n",
    "    rem2 = remainder_plus_six[i] + 8\n",
    "    if rem > 39:\n",
    "        rem-=40\n",
    "        remainder_plus_two.append(rem1)\n",
    "    if rem > 39:\n",
    "        rem -= 40\n",
    "        remainder_plus_six.append(rem2)\n",
    "    else:\n",
    "        remainder_plus_two.append(rem1)\n",
    "        remainder_plus_six.append(rem2)\n"
   ]
  },
  {
   "cell_type": "code",
   "execution_count": null,
   "metadata": {},
   "outputs": [],
   "source": []
  }
 ],
 "metadata": {
  "kernelspec": {
   "display_name": "Python 3",
   "language": "python",
   "name": "python3"
  },
  "language_info": {
   "codemirror_mode": {
    "name": "ipython",
    "version": 3
   },
   "file_extension": ".py",
   "mimetype": "text/x-python",
   "name": "python",
   "nbconvert_exporter": "python",
   "pygments_lexer": "ipython3",
   "version": "3.6.12"
  },
  "toc": {
   "base_numbering": 1,
   "nav_menu": {},
   "number_sections": true,
   "sideBar": true,
   "skip_h1_title": false,
   "title_cell": "Table of Contents",
   "title_sidebar": "Contents",
   "toc_cell": false,
   "toc_position": {},
   "toc_section_display": true,
   "toc_window_display": false
  },
  "varInspector": {
   "cols": {
    "lenName": 16,
    "lenType": 16,
    "lenVar": 40
   },
   "kernels_config": {
    "python": {
     "delete_cmd_postfix": "",
     "delete_cmd_prefix": "del ",
     "library": "var_list.py",
     "varRefreshCmd": "print(var_dic_list())"
    },
    "r": {
     "delete_cmd_postfix": ") ",
     "delete_cmd_prefix": "rm(",
     "library": "var_list.r",
     "varRefreshCmd": "cat(var_dic_list()) "
    }
   },
   "types_to_exclude": [
    "module",
    "function",
    "builtin_function_or_method",
    "instance",
    "_Feature"
   ],
   "window_display": false
  }
 },
 "nbformat": 4,
 "nbformat_minor": 4
}
