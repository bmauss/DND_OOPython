{
 "cells": [
  {
   "cell_type": "markdown",
   "metadata": {},
   "source": [
    "# OOP: Universal Class\n",
    "\n",
    "This notebook will serve as a means of practicing OOP techniques, specifically in the creation of a Universal Parent ancestral class from which all \"sentient\" objects inherit their core attributes. The language we'll be using is Python.  We aim to use this to gain a better understanding of the Four Pillars of OOP:\n",
    "\n",
    "* Abstraction\n",
    "* Inheritance \n",
    "* Polymorphism\n",
    "* Encapsulation\n",
    "\n",
    "We'll be taking notes of whenever we exhibit an example of these pillars. Once completed, the code will be copied over to a python file for use with other classes.\n",
    "\n",
    "# 2  The Universal Package\n",
    "We'll start by making a package that will contain as the template and ancestor to all \"Monster\"/NPC/Character objects. This will contain and initialize base attributes that are shared among all sentient beings available in the 5th Edition Manual.  Attributes include: \n",
    "\n",
    "* Name\n",
    "* Race\n",
    "* Size\n",
    "* Alignment\n",
    "* Armor Class\n",
    "* Hit-Points\n",
    "* Speed\n",
    "* Strength \n",
    "* Dexterity \n",
    "* Constitution \n",
    "* Intelligence \n",
    "* Wisdom \n",
    "* Charisma\n",
    "* Skills\n",
    "* Passive Perception\n",
    "* Languages\n",
    "and more.\n",
    "\n",
    "All information will be taken from [open5e.com](https://open5e.com/)."
   ]
  },
  {
   "cell_type": "code",
   "execution_count": 78,
   "metadata": {
    "ExecuteTime": {
     "end_time": "2021-03-22T19:23:15.303152Z",
     "start_time": "2021-03-22T19:23:15.281119Z"
    }
   },
   "outputs": [
    {
     "name": "stdout",
     "output_type": "stream",
     "text": [
      "Modified 20\n",
      "[24, 20]\n"
     ]
    },
    {
     "data": {
      "text/plain": [
       "'Rolled: 20'"
      ]
     },
     "execution_count": 78,
     "metadata": {},
     "output_type": "execute_result"
    }
   ],
   "source": [
    "import numpy as np\n",
    "\n",
    "# The true universal class\n",
    "\n",
    "class DiceSet:\n",
    "    # define the range of values for dice\n",
    "    d2 = [x + 1 for x in range(2)]\n",
    "    d4 = [x + 1 for x in range(4)]\n",
    "    d6 = [x + 1 for x in range(6)]\n",
    "    d8 = [x + 1 for x in range(8)]\n",
    "    d10 = [x + 1 for x in range(10)]\n",
    "    d12 = [x + 1 for x in range(12)]\n",
    "    d20 = [x + 1 for x in range(20)]\n",
    "    \n",
    "    def __init__(self, d2=d2, d4=d4, d6=d6, d8=d8, d10=d10, d12=d12, d20=d20):\n",
    "        self.d2 = d2\n",
    "        self.d4 = d4 \n",
    "        self.d6 = d6\n",
    "        self.d8 = d8\n",
    "        self.d10 = d10\n",
    "        self.d12 = d12\n",
    "        self.d20 = d20\n",
    "    \n",
    "    def ability_check(self, n_dice=1, modifier=0, advantage=False, \n",
    "                      disadvantage=False):\n",
    "        # Current total for the ability check\n",
    "        total = 0\n",
    "        \n",
    "        # list of outcomes for advantage and disadvantage rolls\n",
    "        totals = []\n",
    "        \n",
    "        # creating local variable of d20 for ease of use\n",
    "        d20 = [x + 1 for x in range(20)]\n",
    "        \n",
    "        # number of rolls performed\n",
    "        num_rolls = 0\n",
    "        \n",
    "        # Loop to support multiple dice rolls\n",
    "        while num_rolls < n_dice:\n",
    "            \n",
    "            # Roll d20\n",
    "            roll = np.random.choice(d20)\n",
    "            \n",
    "            # Inform of Nat 20 or Nat 1 rolls\n",
    "            if roll == 20:\n",
    "                print(\"Nat 20\")\n",
    "            \n",
    "            if roll == 1:\n",
    "                print(\"Nat 1\")\n",
    "            \n",
    "            # Add skill or item modifiers to roll\n",
    "            ability = roll + modifier    \n",
    "            \n",
    "            # Distiguish between Nat and Mod 20 rolls\n",
    "            if (ability == 20) and (modifier != 0):\n",
    "                print(\"Modified 20\")\n",
    "            \n",
    "            # Update roll total \n",
    "            total += ability\n",
    "            \n",
    "            # Update list of totals for use with Advantage/Disadvantage\n",
    "            totals.append(ability)\n",
    "            \n",
    "            # Update number of rolls performed\n",
    "            num_rolls += 1\n",
    "        \n",
    "        # Determine which values to return\n",
    "        if advantage == True:\n",
    "            print(totals)\n",
    "            return f\"Rolled: {max(totals)}\"\n",
    "        \n",
    "        elif disadvantage == True: \n",
    "            print(totals)\n",
    "            return f\"Rolled: {min(totals)}\"\n",
    "        \n",
    "        else: \n",
    "            return f\"Rolled: {total}\"\n",
    "\n",
    "# Jennifer is an instance of the dice_set class\n",
    "dice = DiceSet()\n",
    "# Perform ability check with +5 Modifier \n",
    "dice.ability_check(n_dice=2, modifier=5, disadvantage=True)"
   ]
  },
  {
   "cell_type": "code",
   "execution_count": 93,
   "metadata": {
    "ExecuteTime": {
     "end_time": "2021-03-22T20:53:49.405726Z",
     "start_time": "2021-03-22T20:53:49.379727Z"
    }
   },
   "outputs": [
    {
     "name": "stdout",
     "output_type": "stream",
     "text": [
      "{'str': 6, 'dex': 1, 'con': 5, 'int': 0, 'wis': 2, 'cha': 2}\n"
     ]
    },
    {
     "data": {
      "text/plain": [
       "'Rolled: 14'"
      ]
     },
     "execution_count": 93,
     "metadata": {},
     "output_type": "execute_result"
    }
   ],
   "source": [
    "# The Sentient Class\n",
    "\n",
    "class Sentient(dice_set):\n",
    "    def __init__(self, name=None, in_game_name=None, race=None, size=None, \n",
    "                 alignment=None, armor_class=None, hit_points=None, \n",
    "                 travel_type=None, speed=None, strength=None, dexterity=None, \n",
    "                 constitution=None, intelligence=None, wisdom=None, \n",
    "                 charisma=None, skills={}, passive_perception=None, \n",
    "                 languages=None, saving_throws={}, roll_modifiers={}):\n",
    "        self.name = name\n",
    "        self.in_game_name = in_game_name\n",
    "        self.race = race\n",
    "        self.size = size\n",
    "        self.alignment = alignment\n",
    "        self.armor_class = armor_class\n",
    "        self.hit_points = hit_points\n",
    "        self.speed = speed\n",
    "        self.strength = strength\n",
    "        self.dexterity = dexterity\n",
    "        self.constitution = constitution\n",
    "        self.intelligence = intelligence\n",
    "        self.wisdom = wisdom\n",
    "        self.charisma = charisma\n",
    "        self.skills = skills\n",
    "        self.travel_type = travel_type\n",
    "        self.saving_throws = saving_throws\n",
    "        self.roll_modifiers = roll_modifiers\n",
    "        \n",
    "        \n",
    "# Creating instance of universal class using a \"monster\"\n",
    "barry = Sentient(name=\"Barry\", in_game_name=\"Aatxe\", race=\"Celestial\", \n",
    "                  size=\"Large\", alignment=\"lawful-good\", armor_class=14, \n",
    "                  hit_points=105, travel_type=\"Walk\", speed=50, strength=22, \n",
    "                  dexterity=12, constitution=20, intelligence=10, wisdom=14, \n",
    "                 charisma=14, skills={}, passive_perception=12, \n",
    "                  languages=\"Understands All, Cannot Speak\", saving_throws={}, \n",
    "                  roll_modifiers={})\n",
    "\n",
    "# Editing roll_modifiers\n",
    "barry.roll_modifiers = {'str': 6, 'dex': 1, 'con': 5, 'int': 0, 'wis': 2, \n",
    "                        'cha': 2}\n",
    "# Printing\n",
    "print(barry.roll_modifiers)\n",
    "barry.ability_check(modifier=6)\n"
   ]
  },
  {
   "cell_type": "code",
   "execution_count": 85,
   "metadata": {
    "ExecuteTime": {
     "end_time": "2021-03-22T20:38:53.197017Z",
     "start_time": "2021-03-22T20:38:53.180014Z"
    }
   },
   "outputs": [
    {
     "ename": "AttributeError",
     "evalue": "'dice_set' object has no attribute 'roll_modifiers'",
     "output_type": "error",
     "traceback": [
      "\u001b[1;31m---------------------------------------------------------------------------\u001b[0m",
      "\u001b[1;31mAttributeError\u001b[0m                            Traceback (most recent call last)",
      "\u001b[1;32m<ipython-input-85-74b782cee611>\u001b[0m in \u001b[0;36m<module>\u001b[1;34m\u001b[0m\n\u001b[1;32m----> 1\u001b[1;33m \u001b[0mjennifer\u001b[0m\u001b[1;33m.\u001b[0m\u001b[0mroll_modifiers\u001b[0m\u001b[1;33m\u001b[0m\u001b[1;33m\u001b[0m\u001b[0m\n\u001b[0m",
      "\u001b[1;31mAttributeError\u001b[0m: 'dice_set' object has no attribute 'roll_modifiers'"
     ]
    }
   ],
   "source": [
    "dice.roll_modifiers"
   ]
  },
  {
   "cell_type": "markdown",
   "metadata": {},
   "source": [
    "## Testing Inheritance\n",
    "\n",
    "Now that we have a very basic but functioning Parent, we'll test the inheritance of the class by creating a child class with a `legendary_action` method, since only monsters and NPCs can have legendary actions."
   ]
  },
  {
   "cell_type": "code",
   "execution_count": 95,
   "metadata": {
    "ExecuteTime": {
     "end_time": "2021-03-22T20:54:33.611624Z",
     "start_time": "2021-03-22T20:54:33.603627Z"
    }
   },
   "outputs": [],
   "source": [
    "# Child Class\n",
    "class Monster(sentient):\n",
    "    \n",
    "    def legendary_actions(self, legendary_action={}):\n",
    "        # Keeping method empty so that all \n",
    "        # monsters can have their own implementation\n",
    "        self.legendary_action = legendary_action\n",
    "\n",
    "    def use_legendary_action(self, legendary_action):\n",
    "\n",
    "\n",
    "leslie = monster(name=\"Leslie\", in_game_name=\"Aatxe\", race=\"Celestial\", \n",
    "                  size=\"Large\", alignment=\"lawful-good\", armor_class=14, \n",
    "                  hit_points=105, travel_type=\"Walk\", speed=50, strength=22, \n",
    "                  dexterity=12, constitution=20, intelligence=10, wisdom=14, \n",
    "                 charisma=14, skills={}, passive_perception=12, \n",
    "                  languages=\"Understands All, Cannot Speak\", \n",
    "                  roll_modifiers={'str': 6, 'dex': 1, 'con': 5, 'int': 0, \n",
    "                                  'wis': 2, 'cha': 2})\n",
    "\n",
    "leslie.legendary_actions = {\"Detect\":\"Makes a Wisdom (Perception) check\", \n",
    "                         \"Gore\": \"The aatxe makes one gore attack (Cost: 2 Actions)\",\n",
    "                         \"Bulwark\":\"The aatxe flares crimson with celestial\" \n",
    "                          \" power, protecting those nearby. The next attack\" \n",
    "                          \" that would hit an ally within 5 feet of the aatxe\" \n",
    "                          \" hits the aatxe instead.\"}"
   ]
  },
  {
   "cell_type": "code",
   "execution_count": 96,
   "metadata": {
    "ExecuteTime": {
     "end_time": "2021-03-22T20:54:34.748606Z",
     "start_time": "2021-03-22T20:54:34.739597Z"
    }
   },
   "outputs": [
    {
     "name": "stdout",
     "output_type": "stream",
     "text": [
      "Celestial\n"
     ]
    }
   ],
   "source": [
    "print(leslie.race)"
   ]
  },
  {
   "cell_type": "code",
   "execution_count": 97,
   "metadata": {
    "ExecuteTime": {
     "end_time": "2021-03-22T20:54:35.630361Z",
     "start_time": "2021-03-22T20:54:35.619353Z"
    }
   },
   "outputs": [
    {
     "data": {
      "text/plain": [
       "{'Detect': 'Makes a Wisdom (Perception) check',\n",
       " 'Gore': 'The aatxe makes one gore attack (Cost: 2 Actions)',\n",
       " 'Bulwark': 'The aatxe flares crimson with celestial power, protecting those nearby. The next attack that would hit an ally within 5 feet of the aatxe hits the aatxe instead.'}"
      ]
     },
     "execution_count": 97,
     "metadata": {},
     "output_type": "execute_result"
    }
   ],
   "source": [
    "leslie.legendary_action"
   ]
  },
  {
   "cell_type": "code",
   "execution_count": 99,
   "metadata": {
    "ExecuteTime": {
     "end_time": "2021-03-22T20:55:14.178990Z",
     "start_time": "2021-03-22T20:55:14.171994Z"
    }
   },
   "outputs": [
    {
     "data": {
      "text/plain": [
       "'Rolled: 16'"
      ]
     },
     "execution_count": 99,
     "metadata": {},
     "output_type": "execute_result"
    }
   ],
   "source": [
    "leslie.ability_check(modifier=leslie.roll_modifiers['cha'])"
   ]
  },
  {
   "cell_type": "code",
   "execution_count": 100,
   "metadata": {
    "ExecuteTime": {
     "end_time": "2021-03-22T21:13:03.262003Z",
     "start_time": "2021-03-22T21:13:03.250993Z"
    }
   },
   "outputs": [
    {
     "name": "stdout",
     "output_type": "stream",
     "text": [
      "Character name: Randy\n"
     ]
    },
    {
     "ename": "AttributeError",
     "evalue": "'character' object has no attribute 'legendary_action'",
     "output_type": "error",
     "traceback": [
      "\u001b[1;31m---------------------------------------------------------------------------\u001b[0m",
      "\u001b[1;31mAttributeError\u001b[0m                            Traceback (most recent call last)",
      "\u001b[1;32m<ipython-input-100-63c4dd4f9b7b>\u001b[0m in \u001b[0;36m<module>\u001b[1;34m\u001b[0m\n\u001b[0;32m      6\u001b[0m \u001b[0mplayer\u001b[0m\u001b[1;33m.\u001b[0m\u001b[0mname\u001b[0m\u001b[1;33m=\u001b[0m \u001b[1;34m\"Randy\"\u001b[0m\u001b[1;33m\u001b[0m\u001b[1;33m\u001b[0m\u001b[0m\n\u001b[0;32m      7\u001b[0m \u001b[0mprint\u001b[0m\u001b[1;33m(\u001b[0m\u001b[1;34mf\"Character name: {player.name}\"\u001b[0m\u001b[1;33m)\u001b[0m\u001b[1;33m\u001b[0m\u001b[1;33m\u001b[0m\u001b[0m\n\u001b[1;32m----> 8\u001b[1;33m \u001b[0mprint\u001b[0m\u001b[1;33m(\u001b[0m\u001b[0mplayer\u001b[0m\u001b[1;33m.\u001b[0m\u001b[0mlegendary_action\u001b[0m\u001b[1;33m)\u001b[0m\u001b[1;33m\u001b[0m\u001b[1;33m\u001b[0m\u001b[0m\n\u001b[0m",
      "\u001b[1;31mAttributeError\u001b[0m: 'character' object has no attribute 'legendary_action'"
     ]
    }
   ],
   "source": [
    "# Sibling to Monster\n",
    "class Character(sentient):\n",
    "    pass\n",
    "\n",
    "player = character()\n",
    "player.name= \"Randy\"\n",
    "print(f\"Character name: {player.name}\")\n",
    "print(player.legendary_action)"
   ]
  },
  {
   "cell_type": "markdown",
   "metadata": {},
   "source": [
    "Good! Both the `monster` and `character` class inherited all of the attributes from their parent class, `universal`, but the `legendary_action` method is only reserved for objects of the `monster` class. "
   ]
  },
  {
   "cell_type": "code",
   "execution_count": 70,
   "metadata": {
    "ExecuteTime": {
     "end_time": "2021-03-22T15:47:51.184482Z",
     "start_time": "2021-03-22T15:47:51.165479Z"
    }
   },
   "outputs": [
    {
     "name": "stdout",
     "output_type": "stream",
     "text": [
      "Hello, World!\n"
     ]
    }
   ],
   "source": []
  },
  {
   "cell_type": "code",
   "execution_count": null,
   "metadata": {},
   "outputs": [],
   "source": []
  }
 ],
 "metadata": {
  "kernelspec": {
   "display_name": "Python [conda env:learn-env] *",
   "language": "python",
   "name": "conda-env-learn-env-py"
  },
  "language_info": {
   "codemirror_mode": {
    "name": "ipython",
    "version": 3
   },
   "file_extension": ".py",
   "mimetype": "text/x-python",
   "name": "python",
   "nbconvert_exporter": "python",
   "pygments_lexer": "ipython3",
   "version": "3.6.12"
  },
  "toc": {
   "base_numbering": 1,
   "nav_menu": {},
   "number_sections": true,
   "sideBar": true,
   "skip_h1_title": false,
   "title_cell": "Table of Contents",
   "title_sidebar": "Contents",
   "toc_cell": false,
   "toc_position": {},
   "toc_section_display": true,
   "toc_window_display": false
  },
  "varInspector": {
   "cols": {
    "lenName": 16,
    "lenType": 16,
    "lenVar": 40
   },
   "kernels_config": {
    "python": {
     "delete_cmd_postfix": "",
     "delete_cmd_prefix": "del ",
     "library": "var_list.py",
     "varRefreshCmd": "print(var_dic_list())"
    },
    "r": {
     "delete_cmd_postfix": ") ",
     "delete_cmd_prefix": "rm(",
     "library": "var_list.r",
     "varRefreshCmd": "cat(var_dic_list()) "
    }
   },
   "types_to_exclude": [
    "module",
    "function",
    "builtin_function_or_method",
    "instance",
    "_Feature"
   ],
   "window_display": false
  }
 },
 "nbformat": 4,
 "nbformat_minor": 4
}
