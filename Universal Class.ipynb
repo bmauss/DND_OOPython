{
 "cells": [
  {
   "cell_type": "markdown",
   "metadata": {},
   "source": [
    "# OOP: Universal Class\n",
    "\n",
    "This notebook will serve as a means of practicing OOP techniques, specifically in the creation of a Universal Parent ancestral class from which all \"sentient\" objects inherit their core attributes. The language we'll be using is Python.  We aim to use this to gain a better understanding of the Four Pillars of OOP:\n",
    "\n",
    "* Abstraction\n",
    "* Inheritance \n",
    "* Polymorphism\n",
    "* Encapsulation\n",
    "\n",
    "We'll be taking notes of whenever we exhibit an example of these pillars. Once completed, the code will be copied over to a python file for use with other classes.\n",
    "\n",
    "# 2  The Universal Package\n",
    "We'll start by making a package that will contain as the template and ancestor to all \"Monster\"/NPC/Character objects. This will contain and initialize base attributes that are shared among all sentient beings available in the 5th Edition Manual.  Attributes include: \n",
    "\n",
    "* Name\n",
    "* Race\n",
    "* Size\n",
    "* Alignment\n",
    "* Armor Class\n",
    "* Hit-Points\n",
    "* Speed\n",
    "* Strength \n",
    "* Dexterity \n",
    "* Constitution \n",
    "* Intelligence \n",
    "* Wisdom \n",
    "* Charisma\n",
    "* Skills\n",
    "* Passive Perception\n",
    "* Languages\n",
    "and more.\n",
    "\n",
    "All information will be taken from [open5e.com](https://open5e.com/)."
   ]
  },
  {
   "cell_type": "code",
   "execution_count": 9,
   "metadata": {
    "ExecuteTime": {
     "end_time": "2021-04-12T19:38:55.246037Z",
     "start_time": "2021-04-12T19:38:55.216055Z"
    },
    "scrolled": true
   },
   "outputs": [
    {
     "name": "stdout",
     "output_type": "stream",
     "text": [
      "[21, 7]\n"
     ]
    },
    {
     "data": {
      "text/plain": [
       "'Rolled: 7'"
      ]
     },
     "execution_count": 9,
     "metadata": {},
     "output_type": "execute_result"
    }
   ],
   "source": [
    "import numpy as np\n",
    "import random\n",
    "# The true universal class\n",
    "\n",
    "class DiceSet:\n",
    "    # define the range of values for dice\n",
    "    d2 = [x + 1 for x in range(2)]\n",
    "    d4 = [x + 1 for x in range(4)]\n",
    "    d6 = [x + 1 for x in range(6)]\n",
    "    d8 = [x + 1 for x in range(8)]\n",
    "    d10 = [x + 1 for x in range(10)]\n",
    "    d12 = [x + 1 for x in range(12)]\n",
    "    d20 = [x + 1 for x in range(20)]\n",
    "    \n",
    "    def __init__(self, d2=d2, d4=d4, d6=d6, d8=d8, d10=d10, d12=d12, d20=d20):\n",
    "        self.d2 = d2\n",
    "        self.d4 = d4 \n",
    "        self.d6 = d6\n",
    "        self.d8 = d8\n",
    "        self.d10 = d10\n",
    "        self.d12 = d12\n",
    "        self.d20 = d20\n",
    "    \n",
    "    def ability_check(self, n_dice=1, modifier=0, advantage=False, \n",
    "                      disadvantage=False):\n",
    "        # Current total for the ability check\n",
    "        total = 0\n",
    "        \n",
    "        # list of outcomes for advantage and disadvantage rolls\n",
    "        totals = []\n",
    "        \n",
    "        # creating local variable of d20 for ease of use\n",
    "        d20 = [x + 1 for x in range(20)]\n",
    "        \n",
    "        # number of rolls performed\n",
    "        num_rolls = 0\n",
    "        \n",
    "        # Loop to support multiple dice rolls\n",
    "        while num_rolls < n_dice:\n",
    "            \n",
    "            # Roll d20\n",
    "            roll = np.random.choice(d20)\n",
    "            \n",
    "            # Inform of Nat 20 or Nat 1 rolls\n",
    "            if roll == 20:\n",
    "                print(\"Nat 20\")\n",
    "            \n",
    "            if roll == 1:\n",
    "                print(\"Nat 1\")\n",
    "            \n",
    "            # Add skill or item modifiers to roll\n",
    "            ability = roll + modifier    \n",
    "            \n",
    "            # Distiguish between Nat and Mod 20 rolls\n",
    "            if (ability == 20) and (modifier != 0):\n",
    "                print(\"Modified 20\")\n",
    "            \n",
    "            # Update roll total \n",
    "            total += ability\n",
    "            \n",
    "            # Update list of totals for use with Advantage/Disadvantage\n",
    "            totals.append(ability)\n",
    "            \n",
    "            # Update number of rolls performed\n",
    "            num_rolls += 1\n",
    "        \n",
    "        # Determine which values to return\n",
    "        if advantage == True:\n",
    "            print(totals)\n",
    "            return f\"Rolled: {max(totals)}\"\n",
    "        \n",
    "        elif disadvantage == True: \n",
    "            print(totals)\n",
    "            return f\"Rolled: {min(totals)}\"\n",
    "        \n",
    "        else: \n",
    "            return f\"Rolled: {total}\"\n",
    "\n",
    "# jens_dice is an instance of the dice_set class\n",
    "jens_dice = DiceSet()\n",
    "# Perform ability check with +5 Modifier \n",
    "jens_dice.ability_check(n_dice=2, modifier=5, disadvantage=True)"
   ]
  },
  {
   "cell_type": "code",
   "execution_count": 10,
   "metadata": {
    "ExecuteTime": {
     "end_time": "2021-04-12T19:38:56.501981Z",
     "start_time": "2021-04-12T19:38:56.493985Z"
    }
   },
   "outputs": [],
   "source": [
    "# The Sentient Class\n",
    "from abc import ABC, abstractmethod\n",
    "\n",
    "class Sentient(ABC):\n",
    "    def __init__(self, name=None, in_game_name=None, race=None, size=None, \n",
    "                 alignment=None, armor_class=None, hit_points=None, \n",
    "                 travel_type=None, speed=None, strength=None, dexterity=None, \n",
    "                 constitution=None, intelligence=None, wisdom=None, \n",
    "                 charisma=None, skills={}, passive_perception=None, \n",
    "                 languages=None, saving_throws={}, roll_modifiers={}):\n",
    "        self.__name = name\n",
    "        self.__in_game_name = in_game_name\n",
    "        self.__race = race\n",
    "        self.__size = size\n",
    "        self.__alignment = alignment\n",
    "        self.__armor_class = armor_class\n",
    "        self.__hit_points = hit_points\n",
    "        self.__speed = speed\n",
    "        self.__strength = strength\n",
    "        self.__dexterity = dexterity\n",
    "        self.__constitution = constitution\n",
    "        self.__intelligence = intelligence\n",
    "        self.__wisdom = wisdom\n",
    "        self.__charisma = charisma\n",
    "        self.__skills = skills\n",
    "        self.__travel_type = travel_type\n",
    "        self.__saving_throws = saving_throws\n",
    "        self.__roll_modifiers = roll_modifiers\n",
    "        \n",
    "    @abstractmethod\n",
    "    # Made private using double underscore prefix\n",
    "    def _calculate_hit_points(self):\n",
    "        pass"
   ]
  },
  {
   "cell_type": "code",
   "execution_count": 11,
   "metadata": {
    "ExecuteTime": {
     "end_time": "2021-04-12T19:38:59.919956Z",
     "start_time": "2021-04-12T19:38:59.909964Z"
    }
   },
   "outputs": [],
   "source": [
    "# Child Class\n",
    "class Monster(Sentient):\n",
    "    \n",
    "    def __init__(self, actions={}, resistances={}):\n",
    "        \n",
    "        self.actions = actions\n",
    "        self.resistances = resistances\n",
    "\n",
    "    def _use_action(self, action):\n",
    "        \"\"\"Inside here is an amazing display of coding\"\"\"\n",
    "        return \"Uses \" + action"
   ]
  },
  {
   "cell_type": "markdown",
   "metadata": {},
   "source": [
    "## Testing Inheritance\n",
    "\n",
    "Now that we have a very basic but functioning Parent, we'll test the inheritance of the class by creating a child class with a `legendary_action` method, since only monsters and NPCs can have legendary actions."
   ]
  },
  {
   "cell_type": "code",
   "execution_count": 31,
   "metadata": {
    "ExecuteTime": {
     "end_time": "2021-04-12T20:11:04.806591Z",
     "start_time": "2021-04-12T20:11:04.796606Z"
    }
   },
   "outputs": [],
   "source": [
    "class DragonTurtle(Monster):\n",
    "    def __init__(self):\n",
    "        # Runs at initialization\n",
    "        self.__name = \"Dragon Turtle\"\n",
    "        self.__race = \"Dragon\"\n",
    "        self.__size = \"Gargantuan\"\n",
    "        self.__alignment = \"Neutral\"\n",
    "        self.__armor_class = 20\n",
    "        \n",
    "        # Sets hit-points at initialization\n",
    "        self.__hit_points = self._calculate_hit_points()\n",
    "        self.__speed = {\"Walk\":20, \"Swim\":40}\n",
    "        self.__strength = 25\n",
    "        self.__dexterity = 10\n",
    "        self.__constitution = 20\n",
    "        self.__intelligence = 10\n",
    "        self.__wisdom = 12\n",
    "        self.__charisma = 12\n",
    "        self.__saving_throws = {\"str\":7, 'dex':6, 'con':5, 'int':0, 'wis':7, \n",
    "                              'cha':1}\n",
    "        self.__roll_modifiers = {\"str\":7, 'dex':0, 'con':5, 'int':0, 'wis':1, \n",
    "                               'cha':1}\n",
    "    \n",
    "     \n",
    "    def _calculate_hit_points(self):\n",
    "        \n",
    "        d20_rolls = []\n",
    "        \n",
    "        for roll in range(20):\n",
    "            roll = random.randint(1, 21)\n",
    "            d20_rolls.append(roll)\n",
    "        \n",
    "        sum_rolls = sum(d20_rolls)\n",
    "        \n",
    "        hit_points = 110 + sum_rolls\n",
    "        \n",
    "        return hit_points\n",
    "    \n",
    "    # Getter Method to retrieve \n",
    "    def get_hp(self):\n",
    "        return self.__hit_points\n",
    "    \n",
    "    # Setter Method \n",
    "    def set_hp(self, hp):\n",
    "        \n",
    "        # Access and modify the private hit-points variable\n",
    "        self.__hit_points = hp\n",
    "        \n",
    "        return f\"Hit-Points set to {self.__hit_points}\"\n",
    "    "
   ]
  },
  {
   "cell_type": "code",
   "execution_count": 32,
   "metadata": {
    "ExecuteTime": {
     "end_time": "2021-04-12T20:11:05.463982Z",
     "start_time": "2021-04-12T20:11:05.450991Z"
    }
   },
   "outputs": [],
   "source": [
    "dt1 = DragonTurtle()"
   ]
  },
  {
   "cell_type": "code",
   "execution_count": 33,
   "metadata": {
    "ExecuteTime": {
     "end_time": "2021-04-12T20:11:06.189018Z",
     "start_time": "2021-04-12T20:11:06.180022Z"
    }
   },
   "outputs": [
    {
     "data": {
      "text/plain": [
       "319"
      ]
     },
     "execution_count": 33,
     "metadata": {},
     "output_type": "execute_result"
    }
   ],
   "source": [
    "dt1.get_hp()"
   ]
  },
  {
   "cell_type": "code",
   "execution_count": 34,
   "metadata": {
    "ExecuteTime": {
     "end_time": "2021-04-12T20:11:07.004834Z",
     "start_time": "2021-04-12T20:11:06.995826Z"
    }
   },
   "outputs": [
    {
     "data": {
      "text/plain": [
       "'Hit-Points set to 1080'"
      ]
     },
     "execution_count": 34,
     "metadata": {},
     "output_type": "execute_result"
    }
   ],
   "source": [
    "dt1.set_hp(1080)"
   ]
  },
  {
   "cell_type": "code",
   "execution_count": 35,
   "metadata": {
    "ExecuteTime": {
     "end_time": "2021-04-12T20:11:52.983361Z",
     "start_time": "2021-04-12T20:11:52.971355Z"
    }
   },
   "outputs": [
    {
     "data": {
      "text/plain": [
       "1080"
      ]
     },
     "execution_count": 35,
     "metadata": {},
     "output_type": "execute_result"
    }
   ],
   "source": [
    "# Using Python name mangling to access private variable.\n",
    "dt1._DragonTurtle__hit_points"
   ]
  },
  {
   "cell_type": "code",
   "execution_count": 6,
   "metadata": {
    "ExecuteTime": {
     "end_time": "2021-04-12T18:34:54.718786Z",
     "start_time": "2021-04-12T18:34:54.698795Z"
    }
   },
   "outputs": [],
   "source": [
    "class DragonTurtle(Monster):\n",
    "    def __init__(self):\n",
    "        # Runs at initialization\n",
    "        self.name = \"Dragon Turtle\"\n",
    "        self.race = \"Dragon\"\n",
    "        self.size = \"Gargantuan\"\n",
    "        self.alignment = \"Neutral\"\n",
    "        self.armor_class = 20\n",
    "        \n",
    "        # Sets hit-points at initialization\n",
    "        self.hit_points = self.calculate_hit_points()\n",
    "        self.speed = {\"Walk\":20, \"Swim\":40}\n",
    "        self.strength = 25\n",
    "        self.dexterity = 10\n",
    "        self.constitution = 20\n",
    "        self.intelligence = 10\n",
    "        self.wisdom = 12\n",
    "        self.charisma = 12\n",
    "        self.saving_throws = {\"str\":7, 'dex':6, 'con':5, 'int':0, 'wis':7, \n",
    "                              'cha':1}\n",
    "        self.roll_modifiers = {\"str\":7, 'dex':0, 'con':5, 'int':0, 'wis':1, \n",
    "                               'cha':1}\n",
    "    \n",
    "     \n",
    "    def calculate_hit_points(self):\n",
    "        \n",
    "        d20_rolls = []\n",
    "        \n",
    "        for roll in range(20):\n",
    "            roll = random.randint(1, 21)\n",
    "            d20_rolls.append(roll)\n",
    "        \n",
    "        sum_rolls = sum(d20_rolls)\n",
    "        \n",
    "        hit_points = 110 + sum_rolls\n",
    "        \n",
    "        return hit_points\n",
    "    \n"
   ]
  },
  {
   "cell_type": "code",
   "execution_count": 8,
   "metadata": {
    "ExecuteTime": {
     "end_time": "2021-04-12T18:35:01.443673Z",
     "start_time": "2021-04-12T18:35:01.426683Z"
    }
   },
   "outputs": [
    {
     "data": {
      "text/plain": [
       "362"
      ]
     },
     "execution_count": 8,
     "metadata": {},
     "output_type": "execute_result"
    }
   ],
   "source": [
    "dt2 = DragonTurtle()\n",
    "dt2.hit_points"
   ]
  },
  {
   "cell_type": "code",
   "execution_count": 9,
   "metadata": {
    "ExecuteTime": {
     "end_time": "2021-04-12T18:35:49.622456Z",
     "start_time": "2021-04-12T18:35:49.611449Z"
    }
   },
   "outputs": [],
   "source": [
    "dt2.hit_points = 299"
   ]
  },
  {
   "cell_type": "code",
   "execution_count": 10,
   "metadata": {
    "ExecuteTime": {
     "end_time": "2021-04-12T18:36:22.715341Z",
     "start_time": "2021-04-12T18:36:22.698355Z"
    }
   },
   "outputs": [],
   "source": []
  },
  {
   "cell_type": "code",
   "execution_count": 11,
   "metadata": {
    "ExecuteTime": {
     "end_time": "2021-04-12T18:36:49.228535Z",
     "start_time": "2021-04-12T18:36:49.210533Z"
    }
   },
   "outputs": [
    {
     "data": {
      "text/plain": [
       "327"
      ]
     },
     "execution_count": 11,
     "metadata": {},
     "output_type": "execute_result"
    }
   ],
   "source": []
  },
  {
   "cell_type": "code",
   "execution_count": 9,
   "metadata": {
    "ExecuteTime": {
     "end_time": "2021-03-25T21:04:29.605204Z",
     "start_time": "2021-03-25T21:04:29.587212Z"
    }
   },
   "outputs": [
    {
     "name": "stdout",
     "output_type": "stream",
     "text": [
      "Character name: Randy\n"
     ]
    },
    {
     "ename": "AttributeError",
     "evalue": "'Character' object has no attribute 'legendary_actions'",
     "output_type": "error",
     "traceback": [
      "\u001b[1;31m---------------------------------------------------------------------------\u001b[0m",
      "\u001b[1;31mAttributeError\u001b[0m                            Traceback (most recent call last)",
      "\u001b[1;32m<ipython-input-9-677ecdb1a452>\u001b[0m in \u001b[0;36m<module>\u001b[1;34m\u001b[0m\n\u001b[0;32m      6\u001b[0m \u001b[0mplayer\u001b[0m\u001b[1;33m.\u001b[0m\u001b[0mname\u001b[0m\u001b[1;33m=\u001b[0m \u001b[1;34m\"Randy\"\u001b[0m\u001b[1;33m\u001b[0m\u001b[1;33m\u001b[0m\u001b[0m\n\u001b[0;32m      7\u001b[0m \u001b[0mprint\u001b[0m\u001b[1;33m(\u001b[0m\u001b[1;34mf\"Character name: {player.name}\"\u001b[0m\u001b[1;33m)\u001b[0m\u001b[1;33m\u001b[0m\u001b[1;33m\u001b[0m\u001b[0m\n\u001b[1;32m----> 8\u001b[1;33m \u001b[0mprint\u001b[0m\u001b[1;33m(\u001b[0m\u001b[0mplayer\u001b[0m\u001b[1;33m.\u001b[0m\u001b[0mlegendary_actions\u001b[0m\u001b[1;33m)\u001b[0m\u001b[1;33m\u001b[0m\u001b[1;33m\u001b[0m\u001b[0m\n\u001b[0m",
      "\u001b[1;31mAttributeError\u001b[0m: 'Character' object has no attribute 'legendary_actions'"
     ]
    }
   ],
   "source": [
    "# Sibling to Monster\n",
    "class Character(Sentient):\n",
    "    pass\n",
    "\n",
    "player = Character()\n",
    "player.name= \"Randy\"\n",
    "print(f\"Character name: {player.name}\")\n",
    "print(player.legendary_actions)"
   ]
  },
  {
   "cell_type": "markdown",
   "metadata": {},
   "source": [
    "Good! Both the `monster` and `character` class inherited all of the attributes from their parent class, `universal`, but the `legendary_action` method is only reserved for objects of the `monster` class. "
   ]
  },
  {
   "cell_type": "code",
   "execution_count": 24,
   "metadata": {
    "ExecuteTime": {
     "end_time": "2021-03-25T21:13:50.394638Z",
     "start_time": "2021-03-25T21:13:50.378661Z"
    }
   },
   "outputs": [],
   "source": [
    "s = \"hello there, queen\"\n",
    "s = s.split(\" \")"
   ]
  },
  {
   "cell_type": "code",
   "execution_count": 11,
   "metadata": {
    "ExecuteTime": {
     "end_time": "2021-04-12T17:37:10.043955Z",
     "start_time": "2021-04-12T17:37:10.030962Z"
    }
   },
   "outputs": [
    {
     "data": {
      "text/plain": [
       "'Gering-ding-ding-ding-dingeringeding'"
      ]
     },
     "execution_count": 11,
     "metadata": {},
     "output_type": "execute_result"
    }
   ],
   "source": [
    "class Animal:\n",
    "    def speak(self):\n",
    "        return \"Generic animal noises\"\n",
    "\n",
    "# Fox is no longer a child class\n",
    "class Fox(Animal): \n",
    "    def speak(self):\n",
    "        return \"Gering-ding-ding-ding-dingeringeding\"\n",
    "\n",
    "#  \n",
    "fox = Animal()\n",
    "\n",
    "# Fox object's speak method calls to the Animal class' implemenation\n",
    "animal.speak = Fox().speak\n",
    "\n",
    "animal.speak()"
   ]
  },
  {
   "cell_type": "code",
   "execution_count": 20,
   "metadata": {
    "ExecuteTime": {
     "end_time": "2021-04-05T18:54:14.437386Z",
     "start_time": "2021-04-05T18:54:14.420396Z"
    }
   },
   "outputs": [],
   "source": [
    "class Math:\n",
    "    # Creating 2 methods for adding numbers\n",
    "    def add(self, a, b):\n",
    "        return int(a) + int(b)\n",
    "    \n",
    "    def add(self, c, d):\n",
    "        return round(c + d, 2) \n"
   ]
  },
  {
   "cell_type": "code",
   "execution_count": 21,
   "metadata": {
    "ExecuteTime": {
     "end_time": "2021-04-05T18:54:15.127717Z",
     "start_time": "2021-04-05T18:54:15.115303Z"
    }
   },
   "outputs": [
    {
     "name": "stdout",
     "output_type": "stream",
     "text": [
      "Sum of 2 integers:  47\n",
      "Sum of 2 integers, rounded to the nearest hundredth:  6.91\n"
     ]
    }
   ],
   "source": [
    "math = Math()\n",
    "add_2_ints = math.add(23, 24)\n",
    "rounding = math.add(1.23456, 5.67899)\n",
    "\n",
    "print(\"Sum of 2 integers: \", add_2_ints)\n",
    "print(\"Sum of 2 integers, rounded to the nearest hundredth: \", rounding)"
   ]
  },
  {
   "cell_type": "code",
   "execution_count": 10,
   "metadata": {
    "ExecuteTime": {
     "end_time": "2021-03-30T15:50:29.561499Z",
     "start_time": "2021-03-30T15:50:29.550506Z"
    }
   },
   "outputs": [
    {
     "data": {
      "text/plain": [
       "'Not Prime Number'"
      ]
     },
     "execution_count": 10,
     "metadata": {},
     "output_type": "execute_result"
    }
   ],
   "source": [
    "def is_prime(num):\n",
    "    factors = []\n",
    "    n_list = [x + 1 for x in range(num)]\n",
    "    for n in n_list:\n",
    "        if num % n == 0:\n",
    "            factors.append(n)\n",
    "    if len(factors) == 2: \n",
    "        return \"Prime Number\"\n",
    "    else:\n",
    "        return \"Not Prime Number\"\n",
    "\n",
    "is_prime()"
   ]
  },
  {
   "cell_type": "code",
   "execution_count": 30,
   "metadata": {
    "ExecuteTime": {
     "end_time": "2021-03-25T21:16:10.269685Z",
     "start_time": "2021-03-25T21:16:10.250695Z"
    }
   },
   "outputs": [
    {
     "data": {
      "text/plain": [
       "list"
      ]
     },
     "execution_count": 30,
     "metadata": {},
     "output_type": "execute_result"
    }
   ],
   "source": [
    "    # Default implementation based on the Guard enemy\n",
    "    def calculate_hit_points(self):\n",
    "        \n",
    "        # List of outcomes from rolling 8-sided die\n",
    "        d8_rolls = []\n",
    "        \n",
    "        # roll die twice\n",
    "        for roll in range(2):\n",
    "            \n",
    "            # roll a d8\n",
    "            roll = random.randint(1, 9)\n",
    "            \n",
    "            # Append result to the list\n",
    "            d8_rolls.append(roll)\n",
    "        \n",
    "        # Get sum of the elements in the list\n",
    "        sum_rolls = sum(d8_rolls)\n",
    "        \n",
    "        return sum_rolls"
   ]
  },
  {
   "cell_type": "code",
   "execution_count": 8,
   "metadata": {
    "ExecuteTime": {
     "end_time": "2021-04-12T17:00:36.527574Z",
     "start_time": "2021-04-12T17:00:36.520564Z"
    }
   },
   "outputs": [
    {
     "name": "stdout",
     "output_type": "stream",
     "text": [
      "Fox is hungry:  True\n",
      "Fox has been fed\n",
      "Fox is hungry:  False\n"
     ]
    }
   ],
   "source": [
    "class Animal:\n",
    "    def speak(self):\n",
    "        return \"Generic animal noises\"\n",
    "\n",
    "# Fox is Child Class\n",
    "class Fox(Animal): \n",
    "    \n",
    "    # Fox initializes in a 'hungry state'\n",
    "    def __init__(self, is_hungry=True):\n",
    "        self.is_hungry = is_hungry\n",
    "        \n",
    "    # Using method overriding to repurpose the speak method arbitrarily.\n",
    "    def speak(self, feed=True):\n",
    "        \n",
    "        # Speak method is now a 'feeding' method\n",
    "        if self.is_hungry == True:   \n",
    "            \n",
    "            # Changes the state of Fox Object \n",
    "            self.is_hungry = False \n",
    "            \n",
    "            return \"Fox has been fed\"\n",
    "        \n",
    "        else:\n",
    "            return \"Fox is not hungry\"\n",
    "\n",
    "\n",
    "# Fox Object \n",
    "fox = Fox()\n",
    "\n",
    "# Check hunger state\n",
    "print(\"Fox is hungry: \", fox.is_hungry)\n",
    "\n",
    "# Use speak method \n",
    "print(fox.speak())\n",
    "\n",
    "# Check for change in hunger state\n",
    "print(\"Fox is hungry: \", fox.is_hungry)"
   ]
  },
  {
   "cell_type": "code",
   "execution_count": null,
   "metadata": {
    "ExecuteTime": {
     "end_time": "2021-03-25T21:04:10.426884Z",
     "start_time": "2021-03-25T21:04:10.082Z"
    }
   },
   "outputs": [],
   "source": []
  },
  {
   "cell_type": "code",
   "execution_count": 18,
   "metadata": {
    "ExecuteTime": {
     "end_time": "2021-03-29T20:25:18.021901Z",
     "start_time": "2021-03-29T20:25:17.989310Z"
    }
   },
   "outputs": [
    {
     "data": {
      "text/plain": [
       "341.0"
      ]
     },
     "execution_count": 18,
     "metadata": {},
     "output_type": "execute_result"
    }
   ],
   "source": []
  },
  {
   "cell_type": "code",
   "execution_count": null,
   "metadata": {},
   "outputs": [],
   "source": []
  }
 ],
 "metadata": {
  "kernelspec": {
   "display_name": "Python [conda env:learn-env] *",
   "language": "python",
   "name": "conda-env-learn-env-py"
  },
  "language_info": {
   "codemirror_mode": {
    "name": "ipython",
    "version": 3
   },
   "file_extension": ".py",
   "mimetype": "text/x-python",
   "name": "python",
   "nbconvert_exporter": "python",
   "pygments_lexer": "ipython3",
   "version": "3.6.12"
  },
  "toc": {
   "base_numbering": 1,
   "nav_menu": {},
   "number_sections": true,
   "sideBar": true,
   "skip_h1_title": false,
   "title_cell": "Table of Contents",
   "title_sidebar": "Contents",
   "toc_cell": false,
   "toc_position": {},
   "toc_section_display": true,
   "toc_window_display": false
  },
  "varInspector": {
   "cols": {
    "lenName": 16,
    "lenType": 16,
    "lenVar": 40
   },
   "kernels_config": {
    "python": {
     "delete_cmd_postfix": "",
     "delete_cmd_prefix": "del ",
     "library": "var_list.py",
     "varRefreshCmd": "print(var_dic_list())"
    },
    "r": {
     "delete_cmd_postfix": ") ",
     "delete_cmd_prefix": "rm(",
     "library": "var_list.r",
     "varRefreshCmd": "cat(var_dic_list()) "
    }
   },
   "types_to_exclude": [
    "module",
    "function",
    "builtin_function_or_method",
    "instance",
    "_Feature"
   ],
   "window_display": false
  }
 },
 "nbformat": 4,
 "nbformat_minor": 4
}
