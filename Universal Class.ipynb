{
 "cells": [
  {
   "cell_type": "markdown",
   "metadata": {},
   "source": [
    "# OOP: Universal Class\n",
    "\n",
    "This notebook will serve as a means of practicing OOP techniques, specifically in the creation of a Universal Parent ancestral class from which all \"sentient\" objects inherit their core attributes. The language we'll be using is Python.  We aim to use this to gain a better understanding of the Four Pillars of OOP:\n",
    "\n",
    "* Abstraction\n",
    "* Inheritance \n",
    "* Polymorphism\n",
    "* Encapsulation\n",
    "\n",
    "We'll be taking notes of whenever we exhibit an example of these pillars. Once completed, the code will be copied over to a python file for use with other classes.\n",
    "\n",
    "# 2  The Universal Package\n",
    "We'll start by making a package that will contain as the template and ancestor to all \"Monster\"/NPC/Character objects. This will contain and initialize base attributes that are shared among all sentient beings available in the 5th Edition Manual.  Attributes include: \n",
    "\n",
    "* Name\n",
    "* Race\n",
    "* Size\n",
    "* Alignment\n",
    "* Armor Class\n",
    "* Hit-Points\n",
    "* Speed\n",
    "* Strength \n",
    "* Dexterity \n",
    "* Constitution \n",
    "* Intelligence \n",
    "* Wisdom \n",
    "* Charisma\n",
    "* Skills\n",
    "* Passive Perception\n",
    "* Languages\n",
    "and more.\n",
    "\n",
    "All information will be taken from [open5e.com](https://open5e.com/)."
   ]
  },
  {
   "cell_type": "code",
   "execution_count": 1,
   "metadata": {
    "ExecuteTime": {
     "end_time": "2021-03-25T21:04:10.228772Z",
     "start_time": "2021-03-25T21:04:10.051874Z"
    }
   },
   "outputs": [
    {
     "name": "stdout",
     "output_type": "stream",
     "text": [
      "Nat 1\n",
      "[6, 14]\n"
     ]
    },
    {
     "data": {
      "text/plain": [
       "'Rolled: 6'"
      ]
     },
     "execution_count": 1,
     "metadata": {},
     "output_type": "execute_result"
    }
   ],
   "source": [
    "import numpy as np\n",
    "\n",
    "# The true universal class\n",
    "\n",
    "class DiceSet:\n",
    "    # define the range of values for dice\n",
    "    d2 = [x + 1 for x in range(2)]\n",
    "    d4 = [x + 1 for x in range(4)]\n",
    "    d6 = [x + 1 for x in range(6)]\n",
    "    d8 = [x + 1 for x in range(8)]\n",
    "    d10 = [x + 1 for x in range(10)]\n",
    "    d12 = [x + 1 for x in range(12)]\n",
    "    d20 = [x + 1 for x in range(20)]\n",
    "    \n",
    "    def __init__(self, d2=d2, d4=d4, d6=d6, d8=d8, d10=d10, d12=d12, d20=d20):\n",
    "        self.d2 = d2\n",
    "        self.d4 = d4 \n",
    "        self.d6 = d6\n",
    "        self.d8 = d8\n",
    "        self.d10 = d10\n",
    "        self.d12 = d12\n",
    "        self.d20 = d20\n",
    "    \n",
    "    def ability_check(self, n_dice=1, modifier=0, advantage=False, \n",
    "                      disadvantage=False):\n",
    "        # Current total for the ability check\n",
    "        total = 0\n",
    "        \n",
    "        # list of outcomes for advantage and disadvantage rolls\n",
    "        totals = []\n",
    "        \n",
    "        # creating local variable of d20 for ease of use\n",
    "        d20 = [x + 1 for x in range(20)]\n",
    "        \n",
    "        # number of rolls performed\n",
    "        num_rolls = 0\n",
    "        \n",
    "        # Loop to support multiple dice rolls\n",
    "        while num_rolls < n_dice:\n",
    "            \n",
    "            # Roll d20\n",
    "            roll = np.random.choice(d20)\n",
    "            \n",
    "            # Inform of Nat 20 or Nat 1 rolls\n",
    "            if roll == 20:\n",
    "                print(\"Nat 20\")\n",
    "            \n",
    "            if roll == 1:\n",
    "                print(\"Nat 1\")\n",
    "            \n",
    "            # Add skill or item modifiers to roll\n",
    "            ability = roll + modifier    \n",
    "            \n",
    "            # Distiguish between Nat and Mod 20 rolls\n",
    "            if (ability == 20) and (modifier != 0):\n",
    "                print(\"Modified 20\")\n",
    "            \n",
    "            # Update roll total \n",
    "            total += ability\n",
    "            \n",
    "            # Update list of totals for use with Advantage/Disadvantage\n",
    "            totals.append(ability)\n",
    "            \n",
    "            # Update number of rolls performed\n",
    "            num_rolls += 1\n",
    "        \n",
    "        # Determine which values to return\n",
    "        if advantage == True:\n",
    "            print(totals)\n",
    "            return f\"Rolled: {max(totals)}\"\n",
    "        \n",
    "        elif disadvantage == True: \n",
    "            print(totals)\n",
    "            return f\"Rolled: {min(totals)}\"\n",
    "        \n",
    "        else: \n",
    "            return f\"Rolled: {total}\"\n",
    "\n",
    "# jens_dice is an instance of the dice_set class\n",
    "jens_dice = DiceSet()\n",
    "# Perform ability check with +5 Modifier \n",
    "jens_dice.ability_check(n_dice=2, modifier=5, disadvantage=True)"
   ]
  },
  {
   "cell_type": "code",
   "execution_count": 2,
   "metadata": {
    "ExecuteTime": {
     "end_time": "2021-03-25T21:04:10.243762Z",
     "start_time": "2021-03-25T21:04:10.230769Z"
    }
   },
   "outputs": [
    {
     "name": "stdout",
     "output_type": "stream",
     "text": [
      "Barry's Modifiers: {'str': 6, 'dex': 1, 'con': 5, 'int': 0, 'wis': 2, 'cha': 2}\n",
      " \n",
      "Result of Barry's Strength Ability Check Rolled: 11\n"
     ]
    }
   ],
   "source": [
    "# The Sentient Class\n",
    "\n",
    "class Sentient():\n",
    "    def __init__(self, name=None, in_game_name=None, race=None, size=None, \n",
    "                 alignment=None, armor_class=None, hit_points=None, \n",
    "                 travel_type=None, speed=None, strength=None, dexterity=None, \n",
    "                 constitution=None, intelligence=None, wisdom=None, \n",
    "                 charisma=None, skills={}, passive_perception=None, \n",
    "                 languages=None, saving_throws={}, roll_modifiers={}):\n",
    "        self.name = name\n",
    "        self.in_game_name = in_game_name\n",
    "        self.race = race\n",
    "        self.size = size\n",
    "        self.alignment = alignment\n",
    "        self.armor_class = armor_class\n",
    "        self.hit_points = hit_points\n",
    "        self.speed = speed\n",
    "        self.strength = strength\n",
    "        self.dexterity = dexterity\n",
    "        self.constitution = constitution\n",
    "        self.intelligence = intelligence\n",
    "        self.wisdom = wisdom\n",
    "        self.charisma = charisma\n",
    "        self.skills = skills\n",
    "        self.travel_type = travel_type\n",
    "        self.saving_throws = saving_throws\n",
    "        self.roll_modifiers = roll_modifiers\n",
    "        \n",
    "        def ability_check(self, n_dice=1, modifier=0, advantage=False, \n",
    "                      disadvantage=False):\n",
    "            # Current total for the ability check\n",
    "            total = 0\n",
    "        \n",
    "            # list of outcomes for advantage and disadvantage rolls\n",
    "            totals = []\n",
    "        \n",
    "            # creating local variable of d20 for ease of use\n",
    "            d20 = [x + 1 for x in range(20)]\n",
    "        \n",
    "            # number of rolls performed\n",
    "            num_rolls = 0\n",
    "        \n",
    "            # Loop to support multiple dice rolls\n",
    "            while num_rolls < n_dice:\n",
    "            \n",
    "            # Roll d20\n",
    "                roll = np.random.choice(d20)\n",
    "            \n",
    "            # Inform of Nat 20 or Nat 1 rolls\n",
    "                if roll == 20:\n",
    "                    print(\"Nat 20\")\n",
    "            \n",
    "                if roll == 1:\n",
    "                    print(\"Nat 1\")\n",
    "            \n",
    "            # Add skill or item modifiers to roll\n",
    "                ability = roll + modifier    \n",
    "            \n",
    "            # Distiguish between Nat and Mod 20 rolls\n",
    "                if (ability == 20) and (modifier != 0):\n",
    "                    print(\"Modified 20\")\n",
    "            \n",
    "            # Update roll total \n",
    "                total += ability\n",
    "            \n",
    "            # Update list of totals for use with Advantage/Disadvantage\n",
    "                totals.append(ability)\n",
    "            \n",
    "            # Update number of rolls performed\n",
    "                num_rolls += 1\n",
    "        \n",
    "            # Determine which values to return\n",
    "            if advantage == True:\n",
    "                print(totals)\n",
    "                return f\"Rolled: {max(totals)}\"\n",
    "        \n",
    "            elif disadvantage == True: \n",
    "                print(totals)\n",
    "                return f\"Rolled: {min(totals)}\"\n",
    "        \n",
    "            else: \n",
    "                return f\"Rolled: {total}\" \n",
    "\n",
    "# Creating instance of universal class using a \"monster\"\n",
    "barry = Sentient(name=\"Barry\", in_game_name=\"Aatxe\", race=\"Celestial\", \n",
    "                  size=\"Large\", alignment=\"lawful-good\", armor_class=14, \n",
    "                  hit_points=105, travel_type=\"Walk\", speed=50, strength=22, \n",
    "                  dexterity=12, constitution=20, intelligence=10, wisdom=14, \n",
    "                 charisma=14, skills={}, passive_perception=12, \n",
    "                  languages=\"Understands All, Cannot Speak\", saving_throws={}, \n",
    "                  roll_modifiers={})\n",
    "\n",
    "# Editing roll_modifiers\n",
    "barry.roll_modifiers = {'str': 6, 'dex': 1, 'con': 5, 'int': 0, 'wis': 2, \n",
    "                        'cha': 2}\n",
    "# Printing\n",
    "print(\"Barry's Modifiers:\", barry.roll_modifiers)\n",
    "print(\" \")\n",
    "# barry rolls for a strength ability check\n",
    "strength_ablt_chk = barry.ability_check(modifier=barry.roll_modifiers['str'])\n",
    "print(\"Result of Barry's Strength Ability Check\", strength_ablt_chk)"
   ]
  },
  {
   "cell_type": "code",
   "execution_count": 3,
   "metadata": {
    "ExecuteTime": {
     "end_time": "2021-03-25T21:04:10.413905Z",
     "start_time": "2021-03-25T21:04:10.245761Z"
    }
   },
   "outputs": [
    {
     "ename": "AttributeError",
     "evalue": "'DiceSet' object has no attribute 'roll_modifiers'",
     "output_type": "error",
     "traceback": [
      "\u001b[1;31m---------------------------------------------------------------------------\u001b[0m",
      "\u001b[1;31mAttributeError\u001b[0m                            Traceback (most recent call last)",
      "\u001b[1;32m<ipython-input-3-3cf8290b848d>\u001b[0m in \u001b[0;36m<module>\u001b[1;34m\u001b[0m\n\u001b[1;32m----> 1\u001b[1;33m \u001b[0mjens_dice\u001b[0m\u001b[1;33m.\u001b[0m\u001b[0mroll_modifiers\u001b[0m\u001b[1;33m\u001b[0m\u001b[1;33m\u001b[0m\u001b[0m\n\u001b[0m",
      "\u001b[1;31mAttributeError\u001b[0m: 'DiceSet' object has no attribute 'roll_modifiers'"
     ]
    }
   ],
   "source": [
    "jens_dice.roll_modifiers"
   ]
  },
  {
   "cell_type": "markdown",
   "metadata": {},
   "source": [
    "## Testing Inheritance\n",
    "\n",
    "Now that we have a very basic but functioning Parent, we'll test the inheritance of the class by creating a child class with a `legendary_action` method, since only monsters and NPCs can have legendary actions."
   ]
  },
  {
   "cell_type": "code",
   "execution_count": 4,
   "metadata": {
    "ExecuteTime": {
     "end_time": "2021-03-25T21:04:21.386771Z",
     "start_time": "2021-03-25T21:04:21.363785Z"
    }
   },
   "outputs": [
    {
     "ename": "TypeError",
     "evalue": "__init__() takes from 1 to 21 positional arguments but 22 were given",
     "output_type": "error",
     "traceback": [
      "\u001b[1;31m---------------------------------------------------------------------------\u001b[0m",
      "\u001b[1;31mTypeError\u001b[0m                                 Traceback (most recent call last)",
      "\u001b[1;32m<ipython-input-4-6abe093d38df>\u001b[0m in \u001b[0;36m<module>\u001b[1;34m\u001b[0m\n\u001b[0;32m     30\u001b[0m                   \u001b[0mlanguages\u001b[0m\u001b[1;33m=\u001b[0m\u001b[1;34m\"Understands All, Cannot Speak\"\u001b[0m\u001b[1;33m,\u001b[0m \u001b[0msaving_throws\u001b[0m\u001b[1;33m=\u001b[0m\u001b[1;33m{\u001b[0m\u001b[1;33m}\u001b[0m\u001b[1;33m,\u001b[0m\u001b[1;33m\u001b[0m\u001b[1;33m\u001b[0m\u001b[0m\n\u001b[0;32m     31\u001b[0m                   roll_modifiers={'str': 6, 'dex': 1, 'con': 5, 'int': 0, 'wis': 2, \n\u001b[1;32m---> 32\u001b[1;33m                         'cha': 2})\n\u001b[0m\u001b[0;32m     33\u001b[0m \u001b[0mleslie\u001b[0m\u001b[1;33m.\u001b[0m\u001b[0mrace\u001b[0m \u001b[1;33m=\u001b[0m \u001b[1;34m\"Celestial\"\u001b[0m\u001b[1;33m\u001b[0m\u001b[1;33m\u001b[0m\u001b[0m\n\u001b[0;32m     34\u001b[0m \u001b[0mleslie\u001b[0m\u001b[1;33m.\u001b[0m\u001b[0mname\u001b[0m \u001b[1;33m=\u001b[0m \u001b[1;34m\"Leslie\"\u001b[0m\u001b[1;33m\u001b[0m\u001b[1;33m\u001b[0m\u001b[0m\n",
      "\u001b[1;32m<ipython-input-4-6abe093d38df>\u001b[0m in \u001b[0;36m__init__\u001b[1;34m(self, name, in_game_name, race, size, alignment, armor_class, hit_points, travel_type, speed, strength, dexterity, constitution, intelligence, wisdom, charisma, skills, passive_perception, languages, saving_throws, roll_modifiers)\u001b[0m\n\u001b[0;32m     14\u001b[0m                  \u001b[0mconstitution\u001b[0m\u001b[1;33m,\u001b[0m \u001b[0mintelligence\u001b[0m\u001b[1;33m,\u001b[0m \u001b[0mwisdom\u001b[0m\u001b[1;33m,\u001b[0m\u001b[1;33m\u001b[0m\u001b[1;33m\u001b[0m\u001b[0m\n\u001b[0;32m     15\u001b[0m                  \u001b[0mcharisma\u001b[0m\u001b[1;33m,\u001b[0m \u001b[0mskills\u001b[0m\u001b[1;33m,\u001b[0m \u001b[0mpassive_perception\u001b[0m\u001b[1;33m,\u001b[0m\u001b[1;33m\u001b[0m\u001b[1;33m\u001b[0m\u001b[0m\n\u001b[1;32m---> 16\u001b[1;33m                  languages, saving_throws, roll_modifiers)\n\u001b[0m\u001b[0;32m     17\u001b[0m \u001b[1;33m\u001b[0m\u001b[0m\n\u001b[0;32m     18\u001b[0m         \u001b[0mself\u001b[0m\u001b[1;33m.\u001b[0m\u001b[0mlegendary_actions\u001b[0m \u001b[1;33m=\u001b[0m \u001b[0mlegendary_actions\u001b[0m\u001b[1;33m\u001b[0m\u001b[1;33m\u001b[0m\u001b[0m\n",
      "\u001b[1;31mTypeError\u001b[0m: __init__() takes from 1 to 21 positional arguments but 22 were given"
     ]
    }
   ],
   "source": [
    "# Child Class\n",
    "class Monster(Sentient):\n",
    "    \n",
    "    def __init__(self, name=None, in_game_name=None, race=None, size=None, \n",
    "                 alignment=None, armor_class=None, hit_points=None, \n",
    "                 travel_type=None, speed=None, strength=None, dexterity=None, \n",
    "                 constitution=None, intelligence=None, wisdom=None, \n",
    "                 charisma=None, skills={}, passive_perception=None, \n",
    "                 languages=None, saving_throws={}, roll_modifiers={}):\n",
    "        \n",
    "        super().__init__(self, name, in_game_name, race, size, \n",
    "                 alignment, armor_class, hit_points, \n",
    "                 travel_type, speed, strength, dexterity, \n",
    "                 constitution, intelligence, wisdom, \n",
    "                 charisma, skills, passive_perception, \n",
    "                 languages, saving_throws, roll_modifiers)\n",
    "        \n",
    "        self.legendary_actions = legendary_actions\n",
    "\n",
    "    def use_legendary_action(self, legendary_action):\n",
    "        \"\"\"Inside here is an amazing display of coding\"\"\"\n",
    "        return \"Uses \" + legendary_action\n",
    "\n",
    "\n",
    "leslie = Monster(name=\"Leslie\", in_game_name=\"Aatxe\", race=\"Celestial\", \n",
    "                  size=\"Large\", alignment=\"lawful-good\", armor_class=14, \n",
    "                  hit_points=105, travel_type=\"Walk\", speed=50, strength=22, \n",
    "                  dexterity=12, constitution=20, intelligence=10, wisdom=14, \n",
    "                 charisma=14, skills={}, passive_perception=12, \n",
    "                  languages=\"Understands All, Cannot Speak\", saving_throws={}, \n",
    "                  roll_modifiers={'str': 6, 'dex': 1, 'con': 5, 'int': 0, 'wis': 2, \n",
    "                        'cha': 2})\n",
    "leslie.race = \"Celestial\"\n",
    "leslie.name = \"Leslie\"\n",
    "leslie.roll_modifiers = {'str': 6, 'dex': 1, 'con': 5, 'int': 0, \n",
    "                                  'wis': 2, 'cha': 2}\n",
    "leslie.legendary_actions = {\"Detect\":\"Makes a Wisdom (Perception) check\", \n",
    "                         \"Gore\": \"The aatxe makes one gore attack (Cost: 2 Actions)\",\n",
    "                         \"Bulwark\":\"The aatxe flares crimson with celestial\" \n",
    "                          \" power, protecting those nearby. The next attack\" \n",
    "                          \" that would hit an ally within 5 feet of the aatxe\" \n",
    "                          \" hits the aatxe instead.\"}"
   ]
  },
  {
   "cell_type": "code",
   "execution_count": 5,
   "metadata": {
    "ExecuteTime": {
     "end_time": "2021-03-25T21:04:22.602213Z",
     "start_time": "2021-03-25T21:04:22.580230Z"
    }
   },
   "outputs": [
    {
     "ename": "NameError",
     "evalue": "name 'leslie' is not defined",
     "output_type": "error",
     "traceback": [
      "\u001b[1;31m---------------------------------------------------------------------------\u001b[0m",
      "\u001b[1;31mNameError\u001b[0m                                 Traceback (most recent call last)",
      "\u001b[1;32m<ipython-input-5-5331be5022c4>\u001b[0m in \u001b[0;36m<module>\u001b[1;34m\u001b[0m\n\u001b[1;32m----> 1\u001b[1;33m \u001b[0mprint\u001b[0m\u001b[1;33m(\u001b[0m\u001b[0mleslie\u001b[0m\u001b[1;33m.\u001b[0m\u001b[0mrace\u001b[0m\u001b[1;33m)\u001b[0m\u001b[1;33m\u001b[0m\u001b[1;33m\u001b[0m\u001b[0m\n\u001b[0m",
      "\u001b[1;31mNameError\u001b[0m: name 'leslie' is not defined"
     ]
    }
   ],
   "source": [
    "print(leslie.race)"
   ]
  },
  {
   "cell_type": "code",
   "execution_count": 6,
   "metadata": {
    "ExecuteTime": {
     "end_time": "2021-03-25T21:04:28.205203Z",
     "start_time": "2021-03-25T21:04:28.187211Z"
    }
   },
   "outputs": [
    {
     "ename": "NameError",
     "evalue": "name 'leslie' is not defined",
     "output_type": "error",
     "traceback": [
      "\u001b[1;31m---------------------------------------------------------------------------\u001b[0m",
      "\u001b[1;31mNameError\u001b[0m                                 Traceback (most recent call last)",
      "\u001b[1;32m<ipython-input-6-776bed175440>\u001b[0m in \u001b[0;36m<module>\u001b[1;34m\u001b[0m\n\u001b[1;32m----> 1\u001b[1;33m \u001b[0mleslie\u001b[0m\u001b[1;33m.\u001b[0m\u001b[0mlegendary_actions\u001b[0m\u001b[1;33m\u001b[0m\u001b[1;33m\u001b[0m\u001b[0m\n\u001b[0m",
      "\u001b[1;31mNameError\u001b[0m: name 'leslie' is not defined"
     ]
    }
   ],
   "source": [
    "leslie.legendary_actions"
   ]
  },
  {
   "cell_type": "code",
   "execution_count": 7,
   "metadata": {
    "ExecuteTime": {
     "end_time": "2021-03-25T21:04:28.687207Z",
     "start_time": "2021-03-25T21:04:28.667207Z"
    }
   },
   "outputs": [
    {
     "ename": "NameError",
     "evalue": "name 'leslie' is not defined",
     "output_type": "error",
     "traceback": [
      "\u001b[1;31m---------------------------------------------------------------------------\u001b[0m",
      "\u001b[1;31mNameError\u001b[0m                                 Traceback (most recent call last)",
      "\u001b[1;32m<ipython-input-7-defe1a4f9648>\u001b[0m in \u001b[0;36m<module>\u001b[1;34m\u001b[0m\n\u001b[1;32m----> 1\u001b[1;33m \u001b[0mleslie\u001b[0m\u001b[1;33m.\u001b[0m\u001b[0muse_legendary_action\u001b[0m\u001b[1;33m(\u001b[0m\u001b[1;34m'Detect'\u001b[0m\u001b[1;33m)\u001b[0m\u001b[1;33m\u001b[0m\u001b[1;33m\u001b[0m\u001b[0m\n\u001b[0m",
      "\u001b[1;31mNameError\u001b[0m: name 'leslie' is not defined"
     ]
    }
   ],
   "source": [
    "leslie.use_legendary_action('Detect')"
   ]
  },
  {
   "cell_type": "code",
   "execution_count": 8,
   "metadata": {
    "ExecuteTime": {
     "end_time": "2021-03-25T21:04:29.055826Z",
     "start_time": "2021-03-25T21:04:29.042833Z"
    }
   },
   "outputs": [
    {
     "ename": "NameError",
     "evalue": "name 'leslie' is not defined",
     "output_type": "error",
     "traceback": [
      "\u001b[1;31m---------------------------------------------------------------------------\u001b[0m",
      "\u001b[1;31mNameError\u001b[0m                                 Traceback (most recent call last)",
      "\u001b[1;32m<ipython-input-8-e4cc6b5884ae>\u001b[0m in \u001b[0;36m<module>\u001b[1;34m\u001b[0m\n\u001b[1;32m----> 1\u001b[1;33m \u001b[0mleslie\u001b[0m\u001b[1;33m.\u001b[0m\u001b[0mability_check\u001b[0m\u001b[1;33m(\u001b[0m\u001b[0mmodifier\u001b[0m\u001b[1;33m=\u001b[0m\u001b[0mleslie\u001b[0m\u001b[1;33m.\u001b[0m\u001b[0mroll_modifiers\u001b[0m\u001b[1;33m[\u001b[0m\u001b[1;34m'cha'\u001b[0m\u001b[1;33m]\u001b[0m\u001b[1;33m)\u001b[0m\u001b[1;33m\u001b[0m\u001b[1;33m\u001b[0m\u001b[0m\n\u001b[0m",
      "\u001b[1;31mNameError\u001b[0m: name 'leslie' is not defined"
     ]
    }
   ],
   "source": [
    "leslie.ability_check(modifier=leslie.roll_modifiers['cha'])"
   ]
  },
  {
   "cell_type": "code",
   "execution_count": 9,
   "metadata": {
    "ExecuteTime": {
     "end_time": "2021-03-25T21:04:29.605204Z",
     "start_time": "2021-03-25T21:04:29.587212Z"
    }
   },
   "outputs": [
    {
     "name": "stdout",
     "output_type": "stream",
     "text": [
      "Character name: Randy\n"
     ]
    },
    {
     "ename": "AttributeError",
     "evalue": "'Character' object has no attribute 'legendary_actions'",
     "output_type": "error",
     "traceback": [
      "\u001b[1;31m---------------------------------------------------------------------------\u001b[0m",
      "\u001b[1;31mAttributeError\u001b[0m                            Traceback (most recent call last)",
      "\u001b[1;32m<ipython-input-9-677ecdb1a452>\u001b[0m in \u001b[0;36m<module>\u001b[1;34m\u001b[0m\n\u001b[0;32m      6\u001b[0m \u001b[0mplayer\u001b[0m\u001b[1;33m.\u001b[0m\u001b[0mname\u001b[0m\u001b[1;33m=\u001b[0m \u001b[1;34m\"Randy\"\u001b[0m\u001b[1;33m\u001b[0m\u001b[1;33m\u001b[0m\u001b[0m\n\u001b[0;32m      7\u001b[0m \u001b[0mprint\u001b[0m\u001b[1;33m(\u001b[0m\u001b[1;34mf\"Character name: {player.name}\"\u001b[0m\u001b[1;33m)\u001b[0m\u001b[1;33m\u001b[0m\u001b[1;33m\u001b[0m\u001b[0m\n\u001b[1;32m----> 8\u001b[1;33m \u001b[0mprint\u001b[0m\u001b[1;33m(\u001b[0m\u001b[0mplayer\u001b[0m\u001b[1;33m.\u001b[0m\u001b[0mlegendary_actions\u001b[0m\u001b[1;33m)\u001b[0m\u001b[1;33m\u001b[0m\u001b[1;33m\u001b[0m\u001b[0m\n\u001b[0m",
      "\u001b[1;31mAttributeError\u001b[0m: 'Character' object has no attribute 'legendary_actions'"
     ]
    }
   ],
   "source": [
    "# Sibling to Monster\n",
    "class Character(Sentient):\n",
    "    pass\n",
    "\n",
    "player = Character()\n",
    "player.name= \"Randy\"\n",
    "print(f\"Character name: {player.name}\")\n",
    "print(player.legendary_actions)"
   ]
  },
  {
   "cell_type": "markdown",
   "metadata": {},
   "source": [
    "Good! Both the `monster` and `character` class inherited all of the attributes from their parent class, `universal`, but the `legendary_action` method is only reserved for objects of the `monster` class. "
   ]
  },
  {
   "cell_type": "code",
   "execution_count": 24,
   "metadata": {
    "ExecuteTime": {
     "end_time": "2021-03-25T21:13:50.394638Z",
     "start_time": "2021-03-25T21:13:50.378661Z"
    }
   },
   "outputs": [],
   "source": [
    "s = \"hello there, queen\"\n",
    "s = s.split(\" \")"
   ]
  },
  {
   "cell_type": "code",
   "execution_count": 25,
   "metadata": {
    "ExecuteTime": {
     "end_time": "2021-03-25T21:13:55.542236Z",
     "start_time": "2021-03-25T21:13:55.523247Z"
    }
   },
   "outputs": [
    {
     "data": {
      "text/plain": [
       "['hello', 'there,', 'queen']"
      ]
     },
     "execution_count": 25,
     "metadata": {},
     "output_type": "execute_result"
    }
   ],
   "source": [
    "s"
   ]
  },
  {
   "cell_type": "code",
   "execution_count": 29,
   "metadata": {
    "ExecuteTime": {
     "end_time": "2021-03-25T21:15:44.731754Z",
     "start_time": "2021-03-25T21:15:44.723758Z"
    }
   },
   "outputs": [
    {
     "name": "stdout",
     "output_type": "stream",
     "text": [
      "['queen', 'there,', 'hello']\n"
     ]
    }
   ],
   "source": [
    "print(s)"
   ]
  },
  {
   "cell_type": "code",
   "execution_count": 30,
   "metadata": {
    "ExecuteTime": {
     "end_time": "2021-03-25T21:16:10.269685Z",
     "start_time": "2021-03-25T21:16:10.250695Z"
    }
   },
   "outputs": [
    {
     "data": {
      "text/plain": [
       "list"
      ]
     },
     "execution_count": 30,
     "metadata": {},
     "output_type": "execute_result"
    }
   ],
   "source": [
    "type(s)"
   ]
  },
  {
   "cell_type": "code",
   "execution_count": 33,
   "metadata": {
    "ExecuteTime": {
     "end_time": "2021-03-25T21:18:15.273385Z",
     "start_time": "2021-03-25T21:18:15.259393Z"
    }
   },
   "outputs": [
    {
     "data": {
      "text/plain": [
       "'queen there, hello'"
      ]
     },
     "execution_count": 33,
     "metadata": {},
     "output_type": "execute_result"
    }
   ],
   "source": [
    "r= s[0]+\" \"+s[1]+\" \"+s[2]\n",
    "r"
   ]
  },
  {
   "cell_type": "code",
   "execution_count": null,
   "metadata": {
    "ExecuteTime": {
     "end_time": "2021-03-25T21:04:10.426884Z",
     "start_time": "2021-03-25T21:04:10.082Z"
    }
   },
   "outputs": [],
   "source": [
    "def my_function(x):\n",
    "    return x[::-1]\n",
    "\n",
    "mytxt = my_function(\"I wonder how this text looks like backwards\")\n",
    "\n",
    "print(mytxt)"
   ]
  },
  {
   "cell_type": "code",
   "execution_count": null,
   "metadata": {
    "ExecuteTime": {
     "end_time": "2021-03-25T20:46:17.458876Z",
     "start_time": "2021-03-25T20:46:17.444887Z"
    }
   },
   "outputs": [],
   "source": []
  },
  {
   "cell_type": "code",
   "execution_count": null,
   "metadata": {},
   "outputs": [],
   "source": []
  }
 ],
 "metadata": {
  "kernelspec": {
   "display_name": "Python [conda env:learn-env] *",
   "language": "python",
   "name": "conda-env-learn-env-py"
  },
  "language_info": {
   "codemirror_mode": {
    "name": "ipython",
    "version": 3
   },
   "file_extension": ".py",
   "mimetype": "text/x-python",
   "name": "python",
   "nbconvert_exporter": "python",
   "pygments_lexer": "ipython3",
   "version": "3.6.12"
  },
  "toc": {
   "base_numbering": 1,
   "nav_menu": {},
   "number_sections": true,
   "sideBar": true,
   "skip_h1_title": false,
   "title_cell": "Table of Contents",
   "title_sidebar": "Contents",
   "toc_cell": false,
   "toc_position": {},
   "toc_section_display": true,
   "toc_window_display": false
  },
  "varInspector": {
   "cols": {
    "lenName": 16,
    "lenType": 16,
    "lenVar": 40
   },
   "kernels_config": {
    "python": {
     "delete_cmd_postfix": "",
     "delete_cmd_prefix": "del ",
     "library": "var_list.py",
     "varRefreshCmd": "print(var_dic_list())"
    },
    "r": {
     "delete_cmd_postfix": ") ",
     "delete_cmd_prefix": "rm(",
     "library": "var_list.r",
     "varRefreshCmd": "cat(var_dic_list()) "
    }
   },
   "types_to_exclude": [
    "module",
    "function",
    "builtin_function_or_method",
    "instance",
    "_Feature"
   ],
   "window_display": false
  }
 },
 "nbformat": 4,
 "nbformat_minor": 4
}
