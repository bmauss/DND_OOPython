{
 "cells": [
  {
   "cell_type": "code",
   "execution_count": 1,
   "metadata": {
    "ExecuteTime": {
     "end_time": "2021-04-16T16:59:56.619684Z",
     "start_time": "2021-04-16T16:59:54.153320Z"
    }
   },
   "outputs": [],
   "source": [
    "# Import libraries\n",
    "import numpy as np\n",
    "import matplotlib.pyplot as plt\n",
    "%matplotlib inline\n",
    "import random"
   ]
  },
  {
   "cell_type": "code",
   "execution_count": 60,
   "metadata": {
    "ExecuteTime": {
     "end_time": "2021-04-16T17:39:42.586301Z",
     "start_time": "2021-04-16T17:39:42.572309Z"
    }
   },
   "outputs": [],
   "source": [
    "# All possible outcomes of \n",
    "sample_space = [2, 3, 4, 5, 6, 7, 8, 9, 10, 11, 12]\n",
    "\n",
    "def dice_outcomes(n_throws):\n",
    "    event = {'2' : 0, '3' : 0, '4' : 0, '5' : 0, '6' : 0, '7' : 0, \n",
    "            '8' : 0, '9' : 0, '10' : 0, '11' : 0, '12' : 0}\n",
    "    \n",
    "    total = 0\n",
    "    \n",
    "    # Simulate dice rolls\n",
    "    for i in range(n_throws):\n",
    "        \n",
    "        # Create dice\n",
    "        d1 = random.randint(1, 6)\n",
    "        d2 = random.randint(1, 6)\n",
    "        \n",
    "        # Add totals\n",
    "        total = d1 + d2\n",
    "        \n",
    "        # Update outcomes\n",
    "        event[str(total)] += 1\n",
    "    \n",
    "    return event"
   ]
  },
  {
   "cell_type": "code",
   "execution_count": 62,
   "metadata": {
    "ExecuteTime": {
     "end_time": "2021-04-16T17:40:17.739128Z",
     "start_time": "2021-04-16T17:40:14.924675Z"
    }
   },
   "outputs": [
    {
     "data": {
      "text/plain": [
       "{'2': 27432,\n",
       " '3': 55554,\n",
       " '4': 83314,\n",
       " '5': 111059,\n",
       " '6': 138924,\n",
       " '7': 167187,\n",
       " '8': 138606,\n",
       " '9': 110736,\n",
       " '10': 83583,\n",
       " '11': 55711,\n",
       " '12': 27894}"
      ]
     },
     "execution_count": 62,
     "metadata": {},
     "output_type": "execute_result"
    }
   ],
   "source": [
    "dice_outcomes(1000000)"
   ]
  },
  {
   "cell_type": "code",
   "execution_count": null,
   "metadata": {},
   "outputs": [],
   "source": [
    "# Why 7?\n",
    "combo_2 = [(1, 1)]\n",
    "combo_3 = "
   ]
  },
  {
   "cell_type": "code",
   "execution_count": null,
   "metadata": {},
   "outputs": [],
   "source": []
  }
 ],
 "metadata": {
  "kernelspec": {
   "display_name": "Python [conda env:learn-env] *",
   "language": "python",
   "name": "conda-env-learn-env-py"
  },
  "language_info": {
   "codemirror_mode": {
    "name": "ipython",
    "version": 3
   },
   "file_extension": ".py",
   "mimetype": "text/x-python",
   "name": "python",
   "nbconvert_exporter": "python",
   "pygments_lexer": "ipython3",
   "version": "3.6.12"
  },
  "toc": {
   "base_numbering": 1,
   "nav_menu": {},
   "number_sections": true,
   "sideBar": true,
   "skip_h1_title": false,
   "title_cell": "Table of Contents",
   "title_sidebar": "Contents",
   "toc_cell": false,
   "toc_position": {},
   "toc_section_display": true,
   "toc_window_display": false
  },
  "varInspector": {
   "cols": {
    "lenName": 16,
    "lenType": 16,
    "lenVar": 40
   },
   "kernels_config": {
    "python": {
     "delete_cmd_postfix": "",
     "delete_cmd_prefix": "del ",
     "library": "var_list.py",
     "varRefreshCmd": "print(var_dic_list())"
    },
    "r": {
     "delete_cmd_postfix": ") ",
     "delete_cmd_prefix": "rm(",
     "library": "var_list.r",
     "varRefreshCmd": "cat(var_dic_list()) "
    }
   },
   "types_to_exclude": [
    "module",
    "function",
    "builtin_function_or_method",
    "instance",
    "_Feature"
   ],
   "window_display": false
  }
 },
 "nbformat": 4,
 "nbformat_minor": 4
}
