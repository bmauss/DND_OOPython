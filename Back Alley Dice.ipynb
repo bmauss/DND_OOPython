{
 "cells": [
  {
   "cell_type": "code",
   "execution_count": 1,
   "metadata": {
    "ExecuteTime": {
     "end_time": "2021-04-27T15:04:50.631091Z",
     "start_time": "2021-04-27T15:04:18.581228Z"
    }
   },
   "outputs": [],
   "source": [
    "# Import libraries\n",
    "import numpy as np\n",
    "import seaborn as sns\n",
    "import matplotlib.pyplot as plt\n",
    "%matplotlib inline\n",
    "import random"
   ]
  },
  {
   "cell_type": "code",
   "execution_count": 2,
   "metadata": {
    "ExecuteTime": {
     "end_time": "2021-04-27T15:04:50.663078Z",
     "start_time": "2021-04-27T15:04:50.650090Z"
    }
   },
   "outputs": [],
   "source": [
    "def die_roll(n_throws):\n",
    "    event = {'1' : 0, '2' : 0, '3' : 0, '4' : 0, '5' : 0, '6' : 0}\n",
    "    \n",
    "    # Simulate dice rolls\n",
    "    for i in range(n_throws):\n",
    "        \n",
    "        # Create dice\n",
    "        die = random.randint(1, 6)\n",
    "        \n",
    "        # Update outcomes\n",
    "        event[str(die)] += 1\n",
    "    \n",
    "    return event\n",
    "    "
   ]
  },
  {
   "cell_type": "code",
   "execution_count": 3,
   "metadata": {
    "ExecuteTime": {
     "end_time": "2021-04-27T15:04:50.757220Z",
     "start_time": "2021-04-27T15:04:50.680187Z"
    }
   },
   "outputs": [
    {
     "data": {
      "text/plain": [
       "{'1': 3, '2': 2, '3': 1, '4': 1, '5': 0, '6': 3}"
      ]
     },
     "execution_count": 3,
     "metadata": {},
     "output_type": "execute_result"
    }
   ],
   "source": [
    "die_roll(10)"
   ]
  },
  {
   "cell_type": "code",
   "execution_count": 4,
   "metadata": {
    "ExecuteTime": {
     "end_time": "2021-04-27T15:04:50.867941Z",
     "start_time": "2021-04-27T15:04:50.778209Z"
    }
   },
   "outputs": [
    {
     "data": {
      "text/plain": [
       "{'1': 22, '2': 19, '3': 14, '4': 14, '5': 15, '6': 16}"
      ]
     },
     "execution_count": 4,
     "metadata": {},
     "output_type": "execute_result"
    }
   ],
   "source": [
    "die_roll(100)"
   ]
  },
  {
   "cell_type": "code",
   "execution_count": 5,
   "metadata": {
    "ExecuteTime": {
     "end_time": "2021-04-27T15:04:50.974879Z",
     "start_time": "2021-04-27T15:04:50.886931Z"
    }
   },
   "outputs": [
    {
     "data": {
      "text/plain": [
       "{'1': 190, '2': 154, '3': 168, '4': 175, '5': 161, '6': 152}"
      ]
     },
     "execution_count": 5,
     "metadata": {},
     "output_type": "execute_result"
    }
   ],
   "source": [
    "die_roll(1000)"
   ]
  },
  {
   "cell_type": "code",
   "execution_count": 6,
   "metadata": {
    "ExecuteTime": {
     "end_time": "2021-04-27T15:04:52.628672Z",
     "start_time": "2021-04-27T15:04:50.991878Z"
    }
   },
   "outputs": [
    {
     "data": {
      "text/plain": [
       "{'1': 166435, '2': 166612, '3': 166719, '4': 166606, '5': 166999, '6': 166629}"
      ]
     },
     "execution_count": 6,
     "metadata": {},
     "output_type": "execute_result"
    }
   ],
   "source": [
    "die_roll(1000000)"
   ]
  },
  {
   "cell_type": "code",
   "execution_count": 7,
   "metadata": {
    "ExecuteTime": {
     "end_time": "2021-04-27T15:04:54.031875Z",
     "start_time": "2021-04-27T15:04:52.645665Z"
    }
   },
   "outputs": [
    {
     "name": "stdout",
     "output_type": "stream",
     "text": [
      "The probability of rolling a 6 on a fair die is 0.166196\n"
     ]
    }
   ],
   "source": [
    "dice = die_roll(1000000)\n",
    "\n",
    "# Probability of rolling a 6\n",
    "p_6 = dice['6']/1000000\n",
    "\n",
    "print(f\"The probability of rolling a 6 on a fair die is {p_6}\")"
   ]
  },
  {
   "cell_type": "code",
   "execution_count": 8,
   "metadata": {
    "ExecuteTime": {
     "end_time": "2021-04-27T15:04:54.062165Z",
     "start_time": "2021-04-27T15:04:54.048963Z"
    }
   },
   "outputs": [
    {
     "data": {
      "text/plain": [
       "0.16666666666666666"
      ]
     },
     "execution_count": 8,
     "metadata": {},
     "output_type": "execute_result"
    }
   ],
   "source": [
    "1/6"
   ]
  },
  {
   "cell_type": "code",
   "execution_count": 9,
   "metadata": {
    "ExecuteTime": {
     "end_time": "2021-04-27T15:04:54.155708Z",
     "start_time": "2021-04-27T15:04:54.080198Z"
    }
   },
   "outputs": [],
   "source": [
    "def dice_outcomes(n_throws):\n",
    "    event = {'2' : 0, '3' : 0, '4' : 0, '5' : 0, '6' : 0, '7' : 0, \n",
    "            '8' : 0, '9' : 0, '10' : 0, '11' : 0, '12' : 0}\n",
    "    \n",
    "    #Container for the sum of the dice roll \n",
    "    total = 0\n",
    "    \n",
    "    # Simulate dice rolls\n",
    "    for i in range(n_throws):\n",
    "        \n",
    "        # Create dice\n",
    "        d1 = random.randint(1, 6)\n",
    "        d2 = random.randint(1, 6)\n",
    "        \n",
    "        # Add totals\n",
    "        total = d1 + d2\n",
    "        \n",
    "        # Update outcomes\n",
    "        event[str(total)] += 1\n",
    "    \n",
    "    return event"
   ]
  },
  {
   "cell_type": "code",
   "execution_count": 10,
   "metadata": {
    "ExecuteTime": {
     "end_time": "2021-04-27T15:04:54.265976Z",
     "start_time": "2021-04-27T15:04:54.175332Z"
    }
   },
   "outputs": [
    {
     "data": {
      "text/plain": [
       "{'2': 0,\n",
       " '3': 0,\n",
       " '4': 1,\n",
       " '5': 2,\n",
       " '6': 0,\n",
       " '7': 3,\n",
       " '8': 2,\n",
       " '9': 1,\n",
       " '10': 0,\n",
       " '11': 1,\n",
       " '12': 0}"
      ]
     },
     "execution_count": 10,
     "metadata": {},
     "output_type": "execute_result"
    }
   ],
   "source": [
    "dice_outcomes(10)"
   ]
  },
  {
   "cell_type": "code",
   "execution_count": 11,
   "metadata": {
    "ExecuteTime": {
     "end_time": "2021-04-27T15:04:54.407202Z",
     "start_time": "2021-04-27T15:04:54.284986Z"
    }
   },
   "outputs": [
    {
     "data": {
      "text/plain": [
       "{'2': 3,\n",
       " '3': 2,\n",
       " '4': 10,\n",
       " '5': 10,\n",
       " '6': 17,\n",
       " '7': 13,\n",
       " '8': 22,\n",
       " '9': 9,\n",
       " '10': 7,\n",
       " '11': 4,\n",
       " '12': 3}"
      ]
     },
     "execution_count": 11,
     "metadata": {},
     "output_type": "execute_result"
    }
   ],
   "source": [
    "dice_outcomes(100)"
   ]
  },
  {
   "cell_type": "code",
   "execution_count": 12,
   "metadata": {
    "ExecuteTime": {
     "end_time": "2021-04-27T15:04:54.515201Z",
     "start_time": "2021-04-27T15:04:54.427186Z"
    }
   },
   "outputs": [
    {
     "data": {
      "text/plain": [
       "{'2': 25,\n",
       " '3': 55,\n",
       " '4': 94,\n",
       " '5': 111,\n",
       " '6': 140,\n",
       " '7': 153,\n",
       " '8': 127,\n",
       " '9': 120,\n",
       " '10': 92,\n",
       " '11': 51,\n",
       " '12': 32}"
      ]
     },
     "execution_count": 12,
     "metadata": {},
     "output_type": "execute_result"
    }
   ],
   "source": [
    "dice_outcomes(1000)"
   ]
  },
  {
   "cell_type": "code",
   "execution_count": 13,
   "metadata": {
    "ExecuteTime": {
     "end_time": "2021-04-27T15:04:57.027719Z",
     "start_time": "2021-04-27T15:04:54.533203Z"
    },
    "scrolled": true
   },
   "outputs": [
    {
     "data": {
      "text/plain": [
       "{'2': 27411,\n",
       " '3': 55419,\n",
       " '4': 82940,\n",
       " '5': 111179,\n",
       " '6': 139015,\n",
       " '7': 166766,\n",
       " '8': 139061,\n",
       " '9': 111126,\n",
       " '10': 83547,\n",
       " '11': 55370,\n",
       " '12': 28166}"
      ]
     },
     "execution_count": 13,
     "metadata": {},
     "output_type": "execute_result"
    }
   ],
   "source": [
    "dice_outcomes(1000000)"
   ]
  },
  {
   "cell_type": "code",
   "execution_count": 14,
   "metadata": {
    "ExecuteTime": {
     "end_time": "2021-04-27T15:04:59.380384Z",
     "start_time": "2021-04-27T15:04:57.044716Z"
    }
   },
   "outputs": [
    {
     "name": "stdout",
     "output_type": "stream",
     "text": [
      "The probability of rolling a 7 on a fair set of dice is 0.166543\n"
     ]
    }
   ],
   "source": [
    "dice = dice_outcomes(1000000)\n",
    "\n",
    "# Probability of rolling a 6\n",
    "p_7 = dice['7']/1000000\n",
    "\n",
    "print(f\"The probability of rolling a 7 on a fair set of dice is {p_7}\")"
   ]
  },
  {
   "cell_type": "code",
   "execution_count": 15,
   "metadata": {
    "ExecuteTime": {
     "end_time": "2021-04-27T15:04:59.412360Z",
     "start_time": "2021-04-27T15:04:59.398374Z"
    }
   },
   "outputs": [],
   "source": [
    "keys, values = dice.keys, dice.values\n",
    "\n"
   ]
  },
  {
   "cell_type": "code",
   "execution_count": 16,
   "metadata": {
    "ExecuteTime": {
     "end_time": "2021-04-27T15:04:59.491644Z",
     "start_time": "2021-04-27T15:04:59.430364Z"
    }
   },
   "outputs": [],
   "source": [
    "import pandas as pd"
   ]
  },
  {
   "cell_type": "code",
   "execution_count": 17,
   "metadata": {
    "ExecuteTime": {
     "end_time": "2021-04-27T15:04:59.587333Z",
     "start_time": "2021-04-27T15:04:59.511647Z"
    }
   },
   "outputs": [],
   "source": [
    "data = list(dice.items())\n",
    "\n",
    "df = pd.DataFrame(data, dtype=int)"
   ]
  },
  {
   "cell_type": "code",
   "execution_count": 18,
   "metadata": {
    "ExecuteTime": {
     "end_time": "2021-04-27T15:04:59.772582Z",
     "start_time": "2021-04-27T15:04:59.682950Z"
    }
   },
   "outputs": [
    {
     "data": {
      "text/html": [
       "<div>\n",
       "<style scoped>\n",
       "    .dataframe tbody tr th:only-of-type {\n",
       "        vertical-align: middle;\n",
       "    }\n",
       "\n",
       "    .dataframe tbody tr th {\n",
       "        vertical-align: top;\n",
       "    }\n",
       "\n",
       "    .dataframe thead th {\n",
       "        text-align: right;\n",
       "    }\n",
       "</style>\n",
       "<table border=\"1\" class=\"dataframe\">\n",
       "  <thead>\n",
       "    <tr style=\"text-align: right;\">\n",
       "      <th></th>\n",
       "      <th>0</th>\n",
       "      <th>1</th>\n",
       "    </tr>\n",
       "  </thead>\n",
       "  <tbody>\n",
       "    <tr>\n",
       "      <th>0</th>\n",
       "      <td>2</td>\n",
       "      <td>27639</td>\n",
       "    </tr>\n",
       "    <tr>\n",
       "      <th>1</th>\n",
       "      <td>3</td>\n",
       "      <td>55838</td>\n",
       "    </tr>\n",
       "    <tr>\n",
       "      <th>2</th>\n",
       "      <td>4</td>\n",
       "      <td>83324</td>\n",
       "    </tr>\n",
       "    <tr>\n",
       "      <th>3</th>\n",
       "      <td>5</td>\n",
       "      <td>111106</td>\n",
       "    </tr>\n",
       "    <tr>\n",
       "      <th>4</th>\n",
       "      <td>6</td>\n",
       "      <td>139148</td>\n",
       "    </tr>\n",
       "    <tr>\n",
       "      <th>5</th>\n",
       "      <td>7</td>\n",
       "      <td>166543</td>\n",
       "    </tr>\n",
       "    <tr>\n",
       "      <th>6</th>\n",
       "      <td>8</td>\n",
       "      <td>138924</td>\n",
       "    </tr>\n",
       "    <tr>\n",
       "      <th>7</th>\n",
       "      <td>9</td>\n",
       "      <td>110864</td>\n",
       "    </tr>\n",
       "    <tr>\n",
       "      <th>8</th>\n",
       "      <td>10</td>\n",
       "      <td>82784</td>\n",
       "    </tr>\n",
       "    <tr>\n",
       "      <th>9</th>\n",
       "      <td>11</td>\n",
       "      <td>55792</td>\n",
       "    </tr>\n",
       "    <tr>\n",
       "      <th>10</th>\n",
       "      <td>12</td>\n",
       "      <td>28038</td>\n",
       "    </tr>\n",
       "  </tbody>\n",
       "</table>\n",
       "</div>"
      ],
      "text/plain": [
       "     0       1\n",
       "0    2   27639\n",
       "1    3   55838\n",
       "2    4   83324\n",
       "3    5  111106\n",
       "4    6  139148\n",
       "5    7  166543\n",
       "6    8  138924\n",
       "7    9  110864\n",
       "8   10   82784\n",
       "9   11   55792\n",
       "10  12   28038"
      ]
     },
     "execution_count": 18,
     "metadata": {},
     "output_type": "execute_result"
    }
   ],
   "source": [
    "df"
   ]
  },
  {
   "cell_type": "code",
   "execution_count": 23,
   "metadata": {
    "ExecuteTime": {
     "end_time": "2021-04-27T15:08:02.739509Z",
     "start_time": "2021-04-27T15:08:02.548628Z"
    }
   },
   "outputs": [
    {
     "data": {
      "image/png": "[encoded data removed]",
      "text/plain": [
       "<Figure size 720x576 with 1 Axes>"
      ]
     },
     "metadata": {
      "needs_background": "light"
     },
     "output_type": "display_data"
    }
   ],
   "source": [
    "fig = plt.figure(figsize=(10,8))\n",
    "sns.barplot(df[0].astype(int), df[1])\n",
    "plt.xlabel(\"Dice Roll Sum\")\n",
    "plt.ylabel(\"Total Occurances\")\n",
    "plt.title(\"Distribution of Dice Sums After 1 Million Rolls\")\n",
    "plt.show();"
   ]
  },
  {
   "cell_type": "code",
   "execution_count": null,
   "metadata": {},
   "outputs": [],
   "source": [
    "def monopoly(turns=0):\n",
    "    properties = {\"Go_Start\":0, \"Mediterranean Avenue\":1, \n",
    "                  \"Community Chest 1\":2, \"Baltic Avenue\":3, \n",
    "                  'Income Tax':4, 'Reading Railroad':5, \n",
    "                  'Oriental Avenue':6, 'Chance 1':7, 'Vermont Avenue':8\n",
    "                  'Connecticut Avenue':9, 'Connecticut Avenue':10\n",
    "                  'Jail':11, 'St. Charles Place':12, 'Electric Company':13,\n",
    "                  'States Avenue':14, 'Virginia Avenue':15, \n",
    "                  'Pennsylvania Railroad':16, 'St. James Place':17,\n",
    "                  'Community Chest 2':18, 'Tennessee Avenue':19, \n",
    "                  'New York Avenue':20, 'Free Parking':21, \n",
    "                  'Kentucky Avenue':22, 'Chance 2':23, 'Indiana Avenue':24, \n",
    "                  'Illinois Avenue':25, 'B&O Railroad':26, \n",
    "                  'Atlantic Avenue':27, 'Ventnor Avenue':28, \n",
    "                  'Water Works':29, 'Marvin Gardens':30, 'Go to Jail':31 \n",
    "                  'Pacific Avenue':32, 'North Carolina Avenue':33, \n",
    "                  'Community Chest 3':34, 'Pennsylvania Avenue':35, \n",
    "                  'Short Line':36, 'Chance 3':37, \n",
    "                  'Park Place':38, 'Luxury Tax':39, \n",
    "                  'Boardwalk':40, \"Landed on Go\":41} "
   ]
  }
 ],
 "metadata": {
  "kernelspec": {
   "display_name": "Python [conda env:learn-env] *",
   "language": "python",
   "name": "conda-env-learn-env-py"
  },
  "language_info": {
   "codemirror_mode": {
    "name": "ipython",
    "version": 3
   },
   "file_extension": ".py",
   "mimetype": "text/x-python",
   "name": "python",
   "nbconvert_exporter": "python",
   "pygments_lexer": "ipython3",
   "version": "3.6.12"
  },
  "toc": {
   "base_numbering": 1,
   "nav_menu": {},
   "number_sections": true,
   "sideBar": true,
   "skip_h1_title": false,
   "title_cell": "Table of Contents",
   "title_sidebar": "Contents",
   "toc_cell": false,
   "toc_position": {},
   "toc_section_display": true,
   "toc_window_display": false
  },
  "varInspector": {
   "cols": {
    "lenName": 16,
    "lenType": 16,
    "lenVar": 40
   },
   "kernels_config": {
    "python": {
     "delete_cmd_postfix": "",
     "delete_cmd_prefix": "del ",
     "library": "var_list.py",
     "varRefreshCmd": "print(var_dic_list())"
    },
    "r": {
     "delete_cmd_postfix": ") ",
     "delete_cmd_prefix": "rm(",
     "library": "var_list.r",
     "varRefreshCmd": "cat(var_dic_list()) "
    }
   },
   "types_to_exclude": [
    "module",
    "function",
    "builtin_function_or_method",
    "instance",
    "_Feature"
   ],
   "window_display": false
  }
 },
 "nbformat": 4,
 "nbformat_minor": 4
}
